{
 "cells": [
  {
   "cell_type": "code",
   "execution_count": 1,
   "metadata": {},
   "outputs": [],
   "source": [
    "import chardet\n",
    "import pandas as pd\n",
    "import matplotlib.pyplot as plt\n",
    "import matplotlib as mpl\n",
    "import plotly.express as px"
   ]
  },
  {
   "cell_type": "code",
   "execution_count": 17,
   "metadata": {},
   "outputs": [
    {
     "name": "stdout",
     "output_type": "stream",
     "text": [
      "{'encoding': 'ISO-8859-1', 'confidence': 0.73, 'language': ''}\n"
     ]
    }
   ],
   "source": [
    "with open('empreendimento.csv', 'rb') as file:\n",
    "    result = chardet.detect(file.read(10000))  # Ler os primeiros 10.000 bytes\n",
    "    print(result)"
   ]
  },
  {
   "cell_type": "code",
   "execution_count": 18,
   "metadata": {},
   "outputs": [
    {
     "name": "stderr",
     "output_type": "stream",
     "text": [
      "C:\\Users\\aldec\\AppData\\Local\\Temp\\ipykernel_10752\\3354209145.py:1: DtypeWarning: Columns (30,31,32) have mixed types. Specify dtype option on import or set low_memory=False.\n",
      "  tabela = pd.read_csv(\"empreendimento.csv\",\n"
     ]
    },
    {
     "data": {
      "text/html": [
       "<div>\n",
       "<style scoped>\n",
       "    .dataframe tbody tr th:only-of-type {\n",
       "        vertical-align: middle;\n",
       "    }\n",
       "\n",
       "    .dataframe tbody tr th {\n",
       "        vertical-align: top;\n",
       "    }\n",
       "\n",
       "    .dataframe thead th {\n",
       "        text-align: right;\n",
       "    }\n",
       "</style>\n",
       "<table border=\"1\" class=\"dataframe\">\n",
       "  <thead>\n",
       "    <tr style=\"text-align: right;\">\n",
       "      <th></th>\n",
       "      <th>DatGeracaoConjuntoDados</th>\n",
       "      <th>AnmPeriodoReferencia</th>\n",
       "      <th>NumCNPJDistribuidora</th>\n",
       "      <th>SigAgente</th>\n",
       "      <th>NomAgente</th>\n",
       "      <th>CodClasseConsumo</th>\n",
       "      <th>DscClasseConsumo</th>\n",
       "      <th>CodSubGrupoTarifario</th>\n",
       "      <th>DscSubGrupoTarifario</th>\n",
       "      <th>CodUFibge</th>\n",
       "      <th>...</th>\n",
       "      <th>QtdUCRecebeCredito</th>\n",
       "      <th>SigTipoGeracao</th>\n",
       "      <th>DscFonteGeracao</th>\n",
       "      <th>DscPorte</th>\n",
       "      <th>NumCoordNEmpreendimento</th>\n",
       "      <th>NumCoordEEmpreendimento</th>\n",
       "      <th>MdaPotenciaInstaladaKW</th>\n",
       "      <th>NomSubEstacao</th>\n",
       "      <th>NumCoordESub</th>\n",
       "      <th>NumCoordNSub</th>\n",
       "    </tr>\n",
       "  </thead>\n",
       "  <tbody>\n",
       "    <tr>\n",
       "      <th>0</th>\n",
       "      <td>08/09/2024</td>\n",
       "      <td>set/24</td>\n",
       "      <td>8,33678E+12</td>\n",
       "      <td>CELESC-DIS</td>\n",
       "      <td>CELESC DISTRIBUICAO S.A</td>\n",
       "      <td>3</td>\n",
       "      <td>Rural</td>\n",
       "      <td>10</td>\n",
       "      <td>B2</td>\n",
       "      <td>42.0</td>\n",
       "      <td>...</td>\n",
       "      <td>1</td>\n",
       "      <td>UFV</td>\n",
       "      <td>Radiação solar</td>\n",
       "      <td>Microgeracao</td>\n",
       "      <td>-5,06</td>\n",
       "      <td>-42,78</td>\n",
       "      <td>6.0</td>\n",
       "      <td>NaN</td>\n",
       "      <td>NaN</td>\n",
       "      <td>NaN</td>\n",
       "    </tr>\n",
       "    <tr>\n",
       "      <th>1</th>\n",
       "      <td>08/09/2024</td>\n",
       "      <td>set/24</td>\n",
       "      <td>8,33678E+12</td>\n",
       "      <td>CELESC-DIS</td>\n",
       "      <td>CELESC DISTRIBUICAO S.A</td>\n",
       "      <td>1</td>\n",
       "      <td>Residencial</td>\n",
       "      <td>9</td>\n",
       "      <td>B1</td>\n",
       "      <td>42.0</td>\n",
       "      <td>...</td>\n",
       "      <td>1</td>\n",
       "      <td>UFV</td>\n",
       "      <td>Radiação solar</td>\n",
       "      <td>Microgeracao</td>\n",
       "      <td>-5,06</td>\n",
       "      <td>-42,78</td>\n",
       "      <td>5.0</td>\n",
       "      <td>NaN</td>\n",
       "      <td>NaN</td>\n",
       "      <td>NaN</td>\n",
       "    </tr>\n",
       "    <tr>\n",
       "      <th>2</th>\n",
       "      <td>08/09/2024</td>\n",
       "      <td>set/24</td>\n",
       "      <td>8,33678E+12</td>\n",
       "      <td>CELESC-DIS</td>\n",
       "      <td>CELESC DISTRIBUICAO S.A</td>\n",
       "      <td>3</td>\n",
       "      <td>Rural</td>\n",
       "      <td>10</td>\n",
       "      <td>B2</td>\n",
       "      <td>42.0</td>\n",
       "      <td>...</td>\n",
       "      <td>1</td>\n",
       "      <td>UFV</td>\n",
       "      <td>Radiação solar</td>\n",
       "      <td>Microgeracao</td>\n",
       "      <td>-5,06</td>\n",
       "      <td>-42,78</td>\n",
       "      <td>3.0</td>\n",
       "      <td>NaN</td>\n",
       "      <td>NaN</td>\n",
       "      <td>NaN</td>\n",
       "    </tr>\n",
       "    <tr>\n",
       "      <th>3</th>\n",
       "      <td>08/09/2024</td>\n",
       "      <td>set/24</td>\n",
       "      <td>8,33678E+12</td>\n",
       "      <td>CELESC-DIS</td>\n",
       "      <td>CELESC DISTRIBUICAO S.A</td>\n",
       "      <td>1</td>\n",
       "      <td>Residencial</td>\n",
       "      <td>9</td>\n",
       "      <td>B1</td>\n",
       "      <td>42.0</td>\n",
       "      <td>...</td>\n",
       "      <td>1</td>\n",
       "      <td>UFV</td>\n",
       "      <td>Radiação solar</td>\n",
       "      <td>Microgeracao</td>\n",
       "      <td>-5,06</td>\n",
       "      <td>-42,78</td>\n",
       "      <td>5.0</td>\n",
       "      <td>NaN</td>\n",
       "      <td>NaN</td>\n",
       "      <td>NaN</td>\n",
       "    </tr>\n",
       "    <tr>\n",
       "      <th>4</th>\n",
       "      <td>08/09/2024</td>\n",
       "      <td>set/24</td>\n",
       "      <td>8,33678E+12</td>\n",
       "      <td>CELESC-DIS</td>\n",
       "      <td>CELESC DISTRIBUICAO S.A</td>\n",
       "      <td>1</td>\n",
       "      <td>Residencial</td>\n",
       "      <td>9</td>\n",
       "      <td>B1</td>\n",
       "      <td>42.0</td>\n",
       "      <td>...</td>\n",
       "      <td>1</td>\n",
       "      <td>UFV</td>\n",
       "      <td>Radiação solar</td>\n",
       "      <td>Microgeracao</td>\n",
       "      <td>-5,06</td>\n",
       "      <td>-42,78</td>\n",
       "      <td>6.0</td>\n",
       "      <td>NaN</td>\n",
       "      <td>NaN</td>\n",
       "      <td>NaN</td>\n",
       "    </tr>\n",
       "    <tr>\n",
       "      <th>...</th>\n",
       "      <td>...</td>\n",
       "      <td>...</td>\n",
       "      <td>...</td>\n",
       "      <td>...</td>\n",
       "      <td>...</td>\n",
       "      <td>...</td>\n",
       "      <td>...</td>\n",
       "      <td>...</td>\n",
       "      <td>...</td>\n",
       "      <td>...</td>\n",
       "      <td>...</td>\n",
       "      <td>...</td>\n",
       "      <td>...</td>\n",
       "      <td>...</td>\n",
       "      <td>...</td>\n",
       "      <td>...</td>\n",
       "      <td>...</td>\n",
       "      <td>...</td>\n",
       "      <td>...</td>\n",
       "      <td>...</td>\n",
       "      <td>...</td>\n",
       "    </tr>\n",
       "    <tr>\n",
       "      <th>1048570</th>\n",
       "      <td>08/09/2024</td>\n",
       "      <td>set/24</td>\n",
       "      <td>3,46732E+12</td>\n",
       "      <td>EMT</td>\n",
       "      <td>Energisa Mato Grosso - Distribuidora de Energi...</td>\n",
       "      <td>3</td>\n",
       "      <td>Rural</td>\n",
       "      <td>10</td>\n",
       "      <td>B2</td>\n",
       "      <td>51.0</td>\n",
       "      <td>...</td>\n",
       "      <td>1</td>\n",
       "      <td>UFV</td>\n",
       "      <td>Radiação solar</td>\n",
       "      <td>Microgeracao</td>\n",
       "      <td>-14,73</td>\n",
       "      <td>-60,04</td>\n",
       "      <td>6.0</td>\n",
       "      <td>NaN</td>\n",
       "      <td>NaN</td>\n",
       "      <td>NaN</td>\n",
       "    </tr>\n",
       "    <tr>\n",
       "      <th>1048571</th>\n",
       "      <td>08/09/2024</td>\n",
       "      <td>set/24</td>\n",
       "      <td>3,46732E+12</td>\n",
       "      <td>EMT</td>\n",
       "      <td>Energisa Mato Grosso - Distribuidora de Energi...</td>\n",
       "      <td>1</td>\n",
       "      <td>Residencial</td>\n",
       "      <td>9</td>\n",
       "      <td>B1</td>\n",
       "      <td>51.0</td>\n",
       "      <td>...</td>\n",
       "      <td>3</td>\n",
       "      <td>UFV</td>\n",
       "      <td>Radiação solar</td>\n",
       "      <td>Microgeracao</td>\n",
       "      <td>-15,6</td>\n",
       "      <td>-56,09</td>\n",
       "      <td>30.0</td>\n",
       "      <td>NaN</td>\n",
       "      <td>NaN</td>\n",
       "      <td>NaN</td>\n",
       "    </tr>\n",
       "    <tr>\n",
       "      <th>1048572</th>\n",
       "      <td>08/09/2024</td>\n",
       "      <td>set/24</td>\n",
       "      <td>3,46732E+12</td>\n",
       "      <td>EMT</td>\n",
       "      <td>Energisa Mato Grosso - Distribuidora de Energi...</td>\n",
       "      <td>1</td>\n",
       "      <td>Residencial</td>\n",
       "      <td>9</td>\n",
       "      <td>B1</td>\n",
       "      <td>51.0</td>\n",
       "      <td>...</td>\n",
       "      <td>1</td>\n",
       "      <td>UFV</td>\n",
       "      <td>Radiação solar</td>\n",
       "      <td>Microgeracao</td>\n",
       "      <td>-16,48</td>\n",
       "      <td>-54,61</td>\n",
       "      <td>8.0</td>\n",
       "      <td>NaN</td>\n",
       "      <td>NaN</td>\n",
       "      <td>NaN</td>\n",
       "    </tr>\n",
       "    <tr>\n",
       "      <th>1048573</th>\n",
       "      <td>08/09/2024</td>\n",
       "      <td>set/24</td>\n",
       "      <td>3,46732E+12</td>\n",
       "      <td>EMT</td>\n",
       "      <td>Energisa Mato Grosso - Distribuidora de Energi...</td>\n",
       "      <td>1</td>\n",
       "      <td>Residencial</td>\n",
       "      <td>9</td>\n",
       "      <td>B1</td>\n",
       "      <td>51.0</td>\n",
       "      <td>...</td>\n",
       "      <td>1</td>\n",
       "      <td>UFV</td>\n",
       "      <td>Radiação solar</td>\n",
       "      <td>Microgeracao</td>\n",
       "      <td>-14,57</td>\n",
       "      <td>-57,54</td>\n",
       "      <td>3.0</td>\n",
       "      <td>NaN</td>\n",
       "      <td>NaN</td>\n",
       "      <td>NaN</td>\n",
       "    </tr>\n",
       "    <tr>\n",
       "      <th>1048574</th>\n",
       "      <td>08/09/2024</td>\n",
       "      <td>set/24</td>\n",
       "      <td>3,46732E+12</td>\n",
       "      <td>EMT</td>\n",
       "      <td>Energisa Mato Grosso - Distribuidora de Energi...</td>\n",
       "      <td>2</td>\n",
       "      <td>Comercial</td>\n",
       "      <td>11</td>\n",
       "      <td>B3</td>\n",
       "      <td>51.0</td>\n",
       "      <td>...</td>\n",
       "      <td>1</td>\n",
       "      <td>UFV</td>\n",
       "      <td>Radiação solar</td>\n",
       "      <td>Microgeracao</td>\n",
       "      <td>-14,62</td>\n",
       "      <td>-57,49</td>\n",
       "      <td>30.0</td>\n",
       "      <td>NaN</td>\n",
       "      <td>NaN</td>\n",
       "      <td>NaN</td>\n",
       "    </tr>\n",
       "  </tbody>\n",
       "</table>\n",
       "<p>1048575 rows × 33 columns</p>\n",
       "</div>"
      ],
      "text/plain": [
       "        DatGeracaoConjuntoDados AnmPeriodoReferencia NumCNPJDistribuidora  \\\n",
       "0                    08/09/2024               set/24          8,33678E+12   \n",
       "1                    08/09/2024               set/24          8,33678E+12   \n",
       "2                    08/09/2024               set/24          8,33678E+12   \n",
       "3                    08/09/2024               set/24          8,33678E+12   \n",
       "4                    08/09/2024               set/24          8,33678E+12   \n",
       "...                         ...                  ...                  ...   \n",
       "1048570              08/09/2024               set/24          3,46732E+12   \n",
       "1048571              08/09/2024               set/24          3,46732E+12   \n",
       "1048572              08/09/2024               set/24          3,46732E+12   \n",
       "1048573              08/09/2024               set/24          3,46732E+12   \n",
       "1048574              08/09/2024               set/24          3,46732E+12   \n",
       "\n",
       "          SigAgente                                          NomAgente  \\\n",
       "0        CELESC-DIS                            CELESC DISTRIBUICAO S.A   \n",
       "1        CELESC-DIS                            CELESC DISTRIBUICAO S.A   \n",
       "2        CELESC-DIS                            CELESC DISTRIBUICAO S.A   \n",
       "3        CELESC-DIS                            CELESC DISTRIBUICAO S.A   \n",
       "4        CELESC-DIS                            CELESC DISTRIBUICAO S.A   \n",
       "...             ...                                                ...   \n",
       "1048570         EMT  Energisa Mato Grosso - Distribuidora de Energi...   \n",
       "1048571         EMT  Energisa Mato Grosso - Distribuidora de Energi...   \n",
       "1048572         EMT  Energisa Mato Grosso - Distribuidora de Energi...   \n",
       "1048573         EMT  Energisa Mato Grosso - Distribuidora de Energi...   \n",
       "1048574         EMT  Energisa Mato Grosso - Distribuidora de Energi...   \n",
       "\n",
       "         CodClasseConsumo DscClasseConsumo  CodSubGrupoTarifario  \\\n",
       "0                       3            Rural                    10   \n",
       "1                       1      Residencial                     9   \n",
       "2                       3            Rural                    10   \n",
       "3                       1      Residencial                     9   \n",
       "4                       1      Residencial                     9   \n",
       "...                   ...              ...                   ...   \n",
       "1048570                 3            Rural                    10   \n",
       "1048571                 1      Residencial                     9   \n",
       "1048572                 1      Residencial                     9   \n",
       "1048573                 1      Residencial                     9   \n",
       "1048574                 2        Comercial                    11   \n",
       "\n",
       "        DscSubGrupoTarifario  CodUFibge  ... QtdUCRecebeCredito  \\\n",
       "0                         B2       42.0  ...                  1   \n",
       "1                         B1       42.0  ...                  1   \n",
       "2                         B2       42.0  ...                  1   \n",
       "3                         B1       42.0  ...                  1   \n",
       "4                         B1       42.0  ...                  1   \n",
       "...                      ...        ...  ...                ...   \n",
       "1048570                   B2       51.0  ...                  1   \n",
       "1048571                   B1       51.0  ...                  3   \n",
       "1048572                   B1       51.0  ...                  1   \n",
       "1048573                   B1       51.0  ...                  1   \n",
       "1048574                   B3       51.0  ...                  1   \n",
       "\n",
       "         SigTipoGeracao DscFonteGeracao      DscPorte NumCoordNEmpreendimento  \\\n",
       "0                   UFV  Radiação solar  Microgeracao                   -5,06   \n",
       "1                   UFV  Radiação solar  Microgeracao                   -5,06   \n",
       "2                   UFV  Radiação solar  Microgeracao                   -5,06   \n",
       "3                   UFV  Radiação solar  Microgeracao                   -5,06   \n",
       "4                   UFV  Radiação solar  Microgeracao                   -5,06   \n",
       "...                 ...             ...           ...                     ...   \n",
       "1048570             UFV  Radiação solar  Microgeracao                  -14,73   \n",
       "1048571             UFV  Radiação solar  Microgeracao                   -15,6   \n",
       "1048572             UFV  Radiação solar  Microgeracao                  -16,48   \n",
       "1048573             UFV  Radiação solar  Microgeracao                  -14,57   \n",
       "1048574             UFV  Radiação solar  Microgeracao                  -14,62   \n",
       "\n",
       "        NumCoordEEmpreendimento MdaPotenciaInstaladaKW NomSubEstacao  \\\n",
       "0                        -42,78                    6.0           NaN   \n",
       "1                        -42,78                    5.0           NaN   \n",
       "2                        -42,78                    3.0           NaN   \n",
       "3                        -42,78                    5.0           NaN   \n",
       "4                        -42,78                    6.0           NaN   \n",
       "...                         ...                    ...           ...   \n",
       "1048570                  -60,04                    6.0           NaN   \n",
       "1048571                  -56,09                   30.0           NaN   \n",
       "1048572                  -54,61                    8.0           NaN   \n",
       "1048573                  -57,54                    3.0           NaN   \n",
       "1048574                  -57,49                   30.0           NaN   \n",
       "\n",
       "        NumCoordESub NumCoordNSub  \n",
       "0                NaN          NaN  \n",
       "1                NaN          NaN  \n",
       "2                NaN          NaN  \n",
       "3                NaN          NaN  \n",
       "4                NaN          NaN  \n",
       "...              ...          ...  \n",
       "1048570          NaN          NaN  \n",
       "1048571          NaN          NaN  \n",
       "1048572          NaN          NaN  \n",
       "1048573          NaN          NaN  \n",
       "1048574          NaN          NaN  \n",
       "\n",
       "[1048575 rows x 33 columns]"
      ]
     },
     "metadata": {},
     "output_type": "display_data"
    }
   ],
   "source": [
    "\n",
    "tabela = pd.read_csv(\"empreendimento.csv\",\n",
    "                    encoding=\"ISO-8859-1\", delimiter=';')  # Ou '\\t' se for tabulação\n",
    "\n",
    "\"\"\"tabela = tabela.drop(\n",
    "\n",
    "    columns=[\"DatGeracaoConjuntoDados\", \"AnmPeriodoReferencia\", \"NumCNPJDistribuidora\", \"SigAgente\", \"NomSubEstacao\", \"NomSubEstacao\", \"NumCoordNSub\", \"NumCoordESub\", \"DscFonteGeracao\", \"CodRegiao\", \"SigTipoGeracao\"])\n",
    "\"\"\"\n",
    "\n",
    "\"\"\"tabela.rename(columns={\"NomMunicipio\": \"Municipio\",\n",
    "                    \"NomAgente\": \"Agente\", \"SigUF\": \"UF\", \"DscClasseConsumo\": \"ClasseConsumo\", \"DscModalidadeHabilitado\": \"ModalidadeHabilitada\", \"DscPorte\": \"Porte\", \"MdaPotenciaInstaladaKW\":\"PotenciaInstaladaKW\" }, inplace=True)\n",
    "\"\"\"\n",
    "display(tabela)"
   ]
  },
  {
   "cell_type": "code",
   "execution_count": 85,
   "metadata": {},
   "outputs": [
    {
     "name": "stdout",
     "output_type": "stream",
     "text": [
      "<class 'pandas.core.frame.DataFrame'>\n",
      "RangeIndex: 1048575 entries, 0 to 1048574\n",
      "Data columns (total 23 columns):\n",
      " #   Column                        Non-Null Count    Dtype  \n",
      "---  ------                        --------------    -----  \n",
      " 0   NomAgente                     1048575 non-null  object \n",
      " 1   CodClasseConsumo              1048575 non-null  int64  \n",
      " 2   DscClasseConsumo              1048575 non-null  object \n",
      " 3   CodSubGrupoTarifario          1048575 non-null  int64  \n",
      " 4   DscSubGrupoTarifario          1048575 non-null  object \n",
      " 5   CodUFibge                     1043648 non-null  float64\n",
      " 6   SigUF                         1048232 non-null  object \n",
      " 7   NomRegiao                     1048575 non-null  object \n",
      " 8   CodMunicipioIbge              1048232 non-null  float64\n",
      " 9   NomMunicipio                  1048232 non-null  object \n",
      " 10  CodCEP                        1048575 non-null  object \n",
      " 11  SigTipoConsumidor             1048575 non-null  object \n",
      " 12  NumCPFCNPJ                    1048575 non-null  object \n",
      " 13  NomTitularEmpreendimento      1048568 non-null  object \n",
      " 14  CodEmpreendimento             1048545 non-null  object \n",
      " 15  DthAtualizaCadastralEmpreend  1048575 non-null  object \n",
      " 16  SigModalidadeEmpreendimento   1048575 non-null  object \n",
      " 17  DscModalidadeHabilitado       1048572 non-null  object \n",
      " 18  QtdUCRecebeCredito            1048575 non-null  int64  \n",
      " 19  DscPorte                      1048575 non-null  object \n",
      " 20  NumCoordNEmpreendimento       975430 non-null   object \n",
      " 21  NumCoordEEmpreendimento       975430 non-null   object \n",
      " 22  MdaPotenciaInstaladaKW        1048575 non-null  float64\n",
      "dtypes: float64(3), int64(3), object(17)\n",
      "memory usage: 184.0+ MB\n"
     ]
    },
    {
     "data": {
      "text/plain": [
       "None"
      ]
     },
     "metadata": {},
     "output_type": "display_data"
    }
   ],
   "source": [
    "\n",
    "#tabela = tabela.dropna()\n",
    "display(tabela.info())"
   ]
  },
  {
   "cell_type": "code",
   "execution_count": 17,
   "metadata": {},
   "outputs": [
    {
     "data": {
      "text/plain": [
       "SigUF\n",
       "MG    310704\n",
       "BA    145955\n",
       "GO    124663\n",
       "MS    118372\n",
       "CE     92959\n",
       "ES     61223\n",
       "MA     57115\n",
       "MT     53556\n",
       "AL     34777\n",
       "DF     22223\n",
       "AM     11649\n",
       "AC      8248\n",
       "AP      6728\n",
       "SC        36\n",
       "PR        15\n",
       "RN         7\n",
       "PI         2\n",
       "Name: count, dtype: int64"
      ]
     },
     "metadata": {},
     "output_type": "display_data"
    },
    {
     "data": {
      "text/plain": [
       "MdaPotenciaInstaladaKW\n",
       "5.000      176910\n",
       "3.000      157537\n",
       "4.000      115370\n",
       "8.000      109884\n",
       "6.000      107494\n",
       "            ...  \n",
       "1.464           1\n",
       "2.760           1\n",
       "615.000         1\n",
       "735.000         1\n",
       "2.444           1\n",
       "Name: count, Length: 551, dtype: int64"
      ]
     },
     "metadata": {},
     "output_type": "display_data"
    }
   ],
   "source": [
    "tabela = tabela[tabela[\"NomMunicipio\"] != \"CodMunicipioIbge\"]\n",
    "\n",
    "display(tabela[\"SigUF\"].value_counts())\n",
    "display(tabela[\"MdaPotenciaInstaladaKW\"].value_counts())"
   ]
  },
  {
   "cell_type": "code",
   "execution_count": 15,
   "metadata": {},
   "outputs": [
    {
     "data": {
      "text/html": [
       "<div>\n",
       "<style scoped>\n",
       "    .dataframe tbody tr th:only-of-type {\n",
       "        vertical-align: middle;\n",
       "    }\n",
       "\n",
       "    .dataframe tbody tr th {\n",
       "        vertical-align: top;\n",
       "    }\n",
       "\n",
       "    .dataframe thead th {\n",
       "        text-align: right;\n",
       "    }\n",
       "</style>\n",
       "<table border=\"1\" class=\"dataframe\">\n",
       "  <thead>\n",
       "    <tr style=\"text-align: right;\">\n",
       "      <th></th>\n",
       "      <th>CodClasseConsumo</th>\n",
       "      <th>CodSubGrupoTarifario</th>\n",
       "      <th>CodUFibge</th>\n",
       "      <th>CodMunicipioIbge</th>\n",
       "      <th>QtdUCRecebeCredito</th>\n",
       "      <th>MdaPotenciaInstaladaKW</th>\n",
       "      <th>AnoInstalacao</th>\n",
       "    </tr>\n",
       "    <tr>\n",
       "      <th>SigUF</th>\n",
       "      <th></th>\n",
       "      <th></th>\n",
       "      <th></th>\n",
       "      <th></th>\n",
       "      <th></th>\n",
       "      <th></th>\n",
       "      <th></th>\n",
       "    </tr>\n",
       "  </thead>\n",
       "  <tbody>\n",
       "    <tr>\n",
       "      <th>AC</th>\n",
       "      <td>1.225752</td>\n",
       "      <td>9.248666</td>\n",
       "      <td>12.0</td>\n",
       "      <td>1.200385e+06</td>\n",
       "      <td>1.121969</td>\n",
       "      <td>11.700048</td>\n",
       "      <td>2022.529337</td>\n",
       "    </tr>\n",
       "    <tr>\n",
       "      <th>AL</th>\n",
       "      <td>1.201167</td>\n",
       "      <td>9.242057</td>\n",
       "      <td>27.0</td>\n",
       "      <td>2.704241e+06</td>\n",
       "      <td>1.501050</td>\n",
       "      <td>10.666078</td>\n",
       "      <td>2022.638279</td>\n",
       "    </tr>\n",
       "    <tr>\n",
       "      <th>AM</th>\n",
       "      <td>1.209975</td>\n",
       "      <td>9.257619</td>\n",
       "      <td>13.0</td>\n",
       "      <td>1.302568e+06</td>\n",
       "      <td>1.253412</td>\n",
       "      <td>16.412151</td>\n",
       "      <td>2022.191346</td>\n",
       "    </tr>\n",
       "    <tr>\n",
       "      <th>AP</th>\n",
       "      <td>1.074019</td>\n",
       "      <td>9.087990</td>\n",
       "      <td>16.0</td>\n",
       "      <td>1.600344e+06</td>\n",
       "      <td>1.076546</td>\n",
       "      <td>11.606421</td>\n",
       "      <td>2022.872606</td>\n",
       "    </tr>\n",
       "    <tr>\n",
       "      <th>BA</th>\n",
       "      <td>1.286410</td>\n",
       "      <td>9.355151</td>\n",
       "      <td>29.0</td>\n",
       "      <td>2.917637e+06</td>\n",
       "      <td>1.586078</td>\n",
       "      <td>8.819897</td>\n",
       "      <td>2022.124935</td>\n",
       "    </tr>\n",
       "    <tr>\n",
       "      <th>CE</th>\n",
       "      <td>1.312181</td>\n",
       "      <td>9.230026</td>\n",
       "      <td>23.0</td>\n",
       "      <td>2.306183e+06</td>\n",
       "      <td>1.272959</td>\n",
       "      <td>10.584276</td>\n",
       "      <td>2022.269714</td>\n",
       "    </tr>\n",
       "    <tr>\n",
       "      <th>DF</th>\n",
       "      <td>1.170409</td>\n",
       "      <td>9.140980</td>\n",
       "      <td>53.0</td>\n",
       "      <td>5.300108e+06</td>\n",
       "      <td>1.056383</td>\n",
       "      <td>14.678486</td>\n",
       "      <td>2022.140552</td>\n",
       "    </tr>\n",
       "    <tr>\n",
       "      <th>ES</th>\n",
       "      <td>1.616500</td>\n",
       "      <td>9.402381</td>\n",
       "      <td>32.0</td>\n",
       "      <td>3.202783e+06</td>\n",
       "      <td>1.283505</td>\n",
       "      <td>12.040907</td>\n",
       "      <td>2022.431487</td>\n",
       "    </tr>\n",
       "    <tr>\n",
       "      <th>GO</th>\n",
       "      <td>1.329328</td>\n",
       "      <td>9.239630</td>\n",
       "      <td>52.0</td>\n",
       "      <td>5.210440e+06</td>\n",
       "      <td>1.258681</td>\n",
       "      <td>11.276031</td>\n",
       "      <td>2022.266466</td>\n",
       "    </tr>\n",
       "    <tr>\n",
       "      <th>MA</th>\n",
       "      <td>1.141977</td>\n",
       "      <td>9.144095</td>\n",
       "      <td>21.0</td>\n",
       "      <td>2.107215e+06</td>\n",
       "      <td>1.454329</td>\n",
       "      <td>11.289844</td>\n",
       "      <td>2022.308443</td>\n",
       "    </tr>\n",
       "    <tr>\n",
       "      <th>MG</th>\n",
       "      <td>1.457387</td>\n",
       "      <td>9.378569</td>\n",
       "      <td>31.0</td>\n",
       "      <td>3.138258e+06</td>\n",
       "      <td>2.316716</td>\n",
       "      <td>10.171092</td>\n",
       "      <td>2021.613357</td>\n",
       "    </tr>\n",
       "    <tr>\n",
       "      <th>MS</th>\n",
       "      <td>1.325347</td>\n",
       "      <td>9.213133</td>\n",
       "      <td>50.0</td>\n",
       "      <td>5.004027e+06</td>\n",
       "      <td>1.451712</td>\n",
       "      <td>9.754982</td>\n",
       "      <td>2022.027029</td>\n",
       "    </tr>\n",
       "    <tr>\n",
       "      <th>MT</th>\n",
       "      <td>1.423165</td>\n",
       "      <td>9.359922</td>\n",
       "      <td>51.0</td>\n",
       "      <td>5.105324e+06</td>\n",
       "      <td>1.122115</td>\n",
       "      <td>13.550890</td>\n",
       "      <td>2020.661112</td>\n",
       "    </tr>\n",
       "    <tr>\n",
       "      <th>PI</th>\n",
       "      <td>1.000000</td>\n",
       "      <td>9.000000</td>\n",
       "      <td>22.0</td>\n",
       "      <td>2.208354e+06</td>\n",
       "      <td>2.000000</td>\n",
       "      <td>11.000000</td>\n",
       "      <td>2024.000000</td>\n",
       "    </tr>\n",
       "    <tr>\n",
       "      <th>PR</th>\n",
       "      <td>1.933333</td>\n",
       "      <td>9.466667</td>\n",
       "      <td>41.0</td>\n",
       "      <td>4.110409e+06</td>\n",
       "      <td>1.333333</td>\n",
       "      <td>7.800000</td>\n",
       "      <td>2021.333333</td>\n",
       "    </tr>\n",
       "    <tr>\n",
       "      <th>RN</th>\n",
       "      <td>1.285714</td>\n",
       "      <td>9.142857</td>\n",
       "      <td>24.0</td>\n",
       "      <td>2.406538e+06</td>\n",
       "      <td>1.000000</td>\n",
       "      <td>8.000000</td>\n",
       "      <td>2022.000000</td>\n",
       "    </tr>\n",
       "    <tr>\n",
       "      <th>SC</th>\n",
       "      <td>1.638889</td>\n",
       "      <td>9.416667</td>\n",
       "      <td>42.0</td>\n",
       "      <td>4.209246e+06</td>\n",
       "      <td>1.444444</td>\n",
       "      <td>8.777778</td>\n",
       "      <td>2023.750000</td>\n",
       "    </tr>\n",
       "  </tbody>\n",
       "</table>\n",
       "</div>"
      ],
      "text/plain": [
       "       CodClasseConsumo  CodSubGrupoTarifario  CodUFibge  CodMunicipioIbge  \\\n",
       "SigUF                                                                        \n",
       "AC             1.225752              9.248666       12.0      1.200385e+06   \n",
       "AL             1.201167              9.242057       27.0      2.704241e+06   \n",
       "AM             1.209975              9.257619       13.0      1.302568e+06   \n",
       "AP             1.074019              9.087990       16.0      1.600344e+06   \n",
       "BA             1.286410              9.355151       29.0      2.917637e+06   \n",
       "CE             1.312181              9.230026       23.0      2.306183e+06   \n",
       "DF             1.170409              9.140980       53.0      5.300108e+06   \n",
       "ES             1.616500              9.402381       32.0      3.202783e+06   \n",
       "GO             1.329328              9.239630       52.0      5.210440e+06   \n",
       "MA             1.141977              9.144095       21.0      2.107215e+06   \n",
       "MG             1.457387              9.378569       31.0      3.138258e+06   \n",
       "MS             1.325347              9.213133       50.0      5.004027e+06   \n",
       "MT             1.423165              9.359922       51.0      5.105324e+06   \n",
       "PI             1.000000              9.000000       22.0      2.208354e+06   \n",
       "PR             1.933333              9.466667       41.0      4.110409e+06   \n",
       "RN             1.285714              9.142857       24.0      2.406538e+06   \n",
       "SC             1.638889              9.416667       42.0      4.209246e+06   \n",
       "\n",
       "       QtdUCRecebeCredito  MdaPotenciaInstaladaKW  AnoInstalacao  \n",
       "SigUF                                                             \n",
       "AC               1.121969               11.700048    2022.529337  \n",
       "AL               1.501050               10.666078    2022.638279  \n",
       "AM               1.253412               16.412151    2022.191346  \n",
       "AP               1.076546               11.606421    2022.872606  \n",
       "BA               1.586078                8.819897    2022.124935  \n",
       "CE               1.272959               10.584276    2022.269714  \n",
       "DF               1.056383               14.678486    2022.140552  \n",
       "ES               1.283505               12.040907    2022.431487  \n",
       "GO               1.258681               11.276031    2022.266466  \n",
       "MA               1.454329               11.289844    2022.308443  \n",
       "MG               2.316716               10.171092    2021.613357  \n",
       "MS               1.451712                9.754982    2022.027029  \n",
       "MT               1.122115               13.550890    2020.661112  \n",
       "PI               2.000000               11.000000    2024.000000  \n",
       "PR               1.333333                7.800000    2021.333333  \n",
       "RN               1.000000                8.000000    2022.000000  \n",
       "SC               1.444444                8.777778    2023.750000  "
      ]
     },
     "metadata": {},
     "output_type": "display_data"
    },
    {
     "data": {
      "text/html": [
       "<div>\n",
       "<style scoped>\n",
       "    .dataframe tbody tr th:only-of-type {\n",
       "        vertical-align: middle;\n",
       "    }\n",
       "\n",
       "    .dataframe tbody tr th {\n",
       "        vertical-align: top;\n",
       "    }\n",
       "\n",
       "    .dataframe thead th {\n",
       "        text-align: right;\n",
       "    }\n",
       "</style>\n",
       "<table border=\"1\" class=\"dataframe\">\n",
       "  <thead>\n",
       "    <tr style=\"text-align: right;\">\n",
       "      <th></th>\n",
       "      <th>CodClasseConsumo</th>\n",
       "      <th>CodSubGrupoTarifario</th>\n",
       "      <th>CodUFibge</th>\n",
       "      <th>CodMunicipioIbge</th>\n",
       "      <th>QtdUCRecebeCredito</th>\n",
       "      <th>MdaPotenciaInstaladaKW</th>\n",
       "      <th>AnoInstalacao</th>\n",
       "    </tr>\n",
       "    <tr>\n",
       "      <th>DscClasseConsumo</th>\n",
       "      <th></th>\n",
       "      <th></th>\n",
       "      <th></th>\n",
       "      <th></th>\n",
       "      <th></th>\n",
       "      <th></th>\n",
       "      <th></th>\n",
       "    </tr>\n",
       "  </thead>\n",
       "  <tbody>\n",
       "    <tr>\n",
       "      <th>Comercial</th>\n",
       "      <td>2.0</td>\n",
       "      <td>10.745873</td>\n",
       "      <td>34.468862</td>\n",
       "      <td>3.461032e+06</td>\n",
       "      <td>3.526094</td>\n",
       "      <td>25.597367</td>\n",
       "      <td>2021.570497</td>\n",
       "    </tr>\n",
       "    <tr>\n",
       "      <th>Iluminação pública</th>\n",
       "      <td>7.0</td>\n",
       "      <td>10.108696</td>\n",
       "      <td>38.739130</td>\n",
       "      <td>3.894454e+06</td>\n",
       "      <td>1.108696</td>\n",
       "      <td>34.641304</td>\n",
       "      <td>2021.866667</td>\n",
       "    </tr>\n",
       "    <tr>\n",
       "      <th>Industrial</th>\n",
       "      <td>4.0</td>\n",
       "      <td>10.049222</td>\n",
       "      <td>37.568349</td>\n",
       "      <td>3.771749e+06</td>\n",
       "      <td>2.431090</td>\n",
       "      <td>45.970346</td>\n",
       "      <td>2021.077193</td>\n",
       "    </tr>\n",
       "    <tr>\n",
       "      <th>Poder Público</th>\n",
       "      <td>5.0</td>\n",
       "      <td>9.650151</td>\n",
       "      <td>35.232980</td>\n",
       "      <td>3.537969e+06</td>\n",
       "      <td>1.367674</td>\n",
       "      <td>43.510743</td>\n",
       "      <td>2022.066618</td>\n",
       "    </tr>\n",
       "    <tr>\n",
       "      <th>Residencial</th>\n",
       "      <td>1.0</td>\n",
       "      <td>9.002330</td>\n",
       "      <td>35.096583</td>\n",
       "      <td>3.523710e+06</td>\n",
       "      <td>1.321057</td>\n",
       "      <td>6.898547</td>\n",
       "      <td>2022.025079</td>\n",
       "    </tr>\n",
       "    <tr>\n",
       "      <th>Rural</th>\n",
       "      <td>3.0</td>\n",
       "      <td>9.909466</td>\n",
       "      <td>35.547807</td>\n",
       "      <td>3.574533e+06</td>\n",
       "      <td>2.002736</td>\n",
       "      <td>17.684048</td>\n",
       "      <td>2022.084715</td>\n",
       "    </tr>\n",
       "    <tr>\n",
       "      <th>Serviço Público</th>\n",
       "      <td>6.0</td>\n",
       "      <td>9.587629</td>\n",
       "      <td>35.835052</td>\n",
       "      <td>3.598128e+06</td>\n",
       "      <td>2.319588</td>\n",
       "      <td>40.685567</td>\n",
       "      <td>2020.540541</td>\n",
       "    </tr>\n",
       "  </tbody>\n",
       "</table>\n",
       "</div>"
      ],
      "text/plain": [
       "                    CodClasseConsumo  CodSubGrupoTarifario  CodUFibge  \\\n",
       "DscClasseConsumo                                                        \n",
       "Comercial                        2.0             10.745873  34.468862   \n",
       "Iluminação pública               7.0             10.108696  38.739130   \n",
       "Industrial                       4.0             10.049222  37.568349   \n",
       "Poder Público                    5.0              9.650151  35.232980   \n",
       "Residencial                      1.0              9.002330  35.096583   \n",
       "Rural                            3.0              9.909466  35.547807   \n",
       "Serviço Público                  6.0              9.587629  35.835052   \n",
       "\n",
       "                    CodMunicipioIbge  QtdUCRecebeCredito  \\\n",
       "DscClasseConsumo                                           \n",
       "Comercial               3.461032e+06            3.526094   \n",
       "Iluminação pública      3.894454e+06            1.108696   \n",
       "Industrial              3.771749e+06            2.431090   \n",
       "Poder Público           3.537969e+06            1.367674   \n",
       "Residencial             3.523710e+06            1.321057   \n",
       "Rural                   3.574533e+06            2.002736   \n",
       "Serviço Público         3.598128e+06            2.319588   \n",
       "\n",
       "                    MdaPotenciaInstaladaKW  AnoInstalacao  \n",
       "DscClasseConsumo                                           \n",
       "Comercial                        25.597367    2021.570497  \n",
       "Iluminação pública               34.641304    2021.866667  \n",
       "Industrial                       45.970346    2021.077193  \n",
       "Poder Público                    43.510743    2022.066618  \n",
       "Residencial                       6.898547    2022.025079  \n",
       "Rural                            17.684048    2022.084715  \n",
       "Serviço Público                  40.685567    2020.540541  "
      ]
     },
     "metadata": {},
     "output_type": "display_data"
    },
    {
     "data": {
      "text/html": [
       "<div>\n",
       "<style scoped>\n",
       "    .dataframe tbody tr th:only-of-type {\n",
       "        vertical-align: middle;\n",
       "    }\n",
       "\n",
       "    .dataframe tbody tr th {\n",
       "        vertical-align: top;\n",
       "    }\n",
       "\n",
       "    .dataframe thead th {\n",
       "        text-align: right;\n",
       "    }\n",
       "</style>\n",
       "<table border=\"1\" class=\"dataframe\">\n",
       "  <thead>\n",
       "    <tr style=\"text-align: right;\">\n",
       "      <th></th>\n",
       "      <th>CodClasseConsumo</th>\n",
       "      <th>CodSubGrupoTarifario</th>\n",
       "      <th>CodUFibge</th>\n",
       "      <th>CodMunicipioIbge</th>\n",
       "      <th>QtdUCRecebeCredito</th>\n",
       "      <th>MdaPotenciaInstaladaKW</th>\n",
       "      <th>AnoInstalacao</th>\n",
       "    </tr>\n",
       "    <tr>\n",
       "      <th>NomMunicipio</th>\n",
       "      <th></th>\n",
       "      <th></th>\n",
       "      <th></th>\n",
       "      <th></th>\n",
       "      <th></th>\n",
       "      <th></th>\n",
       "      <th></th>\n",
       "    </tr>\n",
       "  </thead>\n",
       "  <tbody>\n",
       "    <tr>\n",
       "      <th>Abadia de Goiás</th>\n",
       "      <td>1.361953</td>\n",
       "      <td>9.252525</td>\n",
       "      <td>52.0</td>\n",
       "      <td>5200050.0</td>\n",
       "      <td>1.237374</td>\n",
       "      <td>9.217172</td>\n",
       "      <td>2022.032609</td>\n",
       "    </tr>\n",
       "    <tr>\n",
       "      <th>Abadia dos Dourados</th>\n",
       "      <td>2.022059</td>\n",
       "      <td>9.691176</td>\n",
       "      <td>31.0</td>\n",
       "      <td>3100104.0</td>\n",
       "      <td>1.154412</td>\n",
       "      <td>10.080882</td>\n",
       "      <td>2022.071429</td>\n",
       "    </tr>\n",
       "    <tr>\n",
       "      <th>Abadiânia</th>\n",
       "      <td>1.881188</td>\n",
       "      <td>9.524752</td>\n",
       "      <td>52.0</td>\n",
       "      <td>5200100.0</td>\n",
       "      <td>1.306931</td>\n",
       "      <td>20.341584</td>\n",
       "      <td>2022.456790</td>\n",
       "    </tr>\n",
       "    <tr>\n",
       "      <th>Abaeté</th>\n",
       "      <td>1.739130</td>\n",
       "      <td>9.574879</td>\n",
       "      <td>31.0</td>\n",
       "      <td>3100203.0</td>\n",
       "      <td>1.292271</td>\n",
       "      <td>12.461353</td>\n",
       "      <td>2021.189873</td>\n",
       "    </tr>\n",
       "    <tr>\n",
       "      <th>Abaiara</th>\n",
       "      <td>1.627451</td>\n",
       "      <td>9.470588</td>\n",
       "      <td>23.0</td>\n",
       "      <td>2300101.0</td>\n",
       "      <td>1.490196</td>\n",
       "      <td>11.568627</td>\n",
       "      <td>2022.875000</td>\n",
       "    </tr>\n",
       "    <tr>\n",
       "      <th>...</th>\n",
       "      <td>...</td>\n",
       "      <td>...</td>\n",
       "      <td>...</td>\n",
       "      <td>...</td>\n",
       "      <td>...</td>\n",
       "      <td>...</td>\n",
       "      <td>...</td>\n",
       "    </tr>\n",
       "    <tr>\n",
       "      <th>Águas Formosas</th>\n",
       "      <td>1.583784</td>\n",
       "      <td>9.470270</td>\n",
       "      <td>31.0</td>\n",
       "      <td>3100906.0</td>\n",
       "      <td>2.043243</td>\n",
       "      <td>9.875676</td>\n",
       "      <td>2021.821429</td>\n",
       "    </tr>\n",
       "    <tr>\n",
       "      <th>Águas Lindas de Goiás</th>\n",
       "      <td>1.180556</td>\n",
       "      <td>9.176587</td>\n",
       "      <td>52.0</td>\n",
       "      <td>5200258.0</td>\n",
       "      <td>1.138889</td>\n",
       "      <td>11.682540</td>\n",
       "      <td>2022.448780</td>\n",
       "    </tr>\n",
       "    <tr>\n",
       "      <th>Águas Vermelhas</th>\n",
       "      <td>1.627451</td>\n",
       "      <td>9.372549</td>\n",
       "      <td>31.0</td>\n",
       "      <td>3101003.0</td>\n",
       "      <td>1.921569</td>\n",
       "      <td>21.490196</td>\n",
       "      <td>2021.956522</td>\n",
       "    </tr>\n",
       "    <tr>\n",
       "      <th>Águia Branca</th>\n",
       "      <td>2.517007</td>\n",
       "      <td>9.857143</td>\n",
       "      <td>32.0</td>\n",
       "      <td>3200136.0</td>\n",
       "      <td>1.068027</td>\n",
       "      <td>11.663265</td>\n",
       "      <td>2023.000000</td>\n",
       "    </tr>\n",
       "    <tr>\n",
       "      <th>Érico Cardoso</th>\n",
       "      <td>1.411765</td>\n",
       "      <td>9.423529</td>\n",
       "      <td>29.0</td>\n",
       "      <td>2900504.0</td>\n",
       "      <td>1.447059</td>\n",
       "      <td>6.305882</td>\n",
       "      <td>2022.432432</td>\n",
       "    </tr>\n",
       "  </tbody>\n",
       "</table>\n",
       "<p>2401 rows × 7 columns</p>\n",
       "</div>"
      ],
      "text/plain": [
       "                       CodClasseConsumo  CodSubGrupoTarifario  CodUFibge  \\\n",
       "NomMunicipio                                                               \n",
       "Abadia de Goiás                1.361953              9.252525       52.0   \n",
       "Abadia dos Dourados            2.022059              9.691176       31.0   \n",
       "Abadiânia                      1.881188              9.524752       52.0   \n",
       "Abaeté                         1.739130              9.574879       31.0   \n",
       "Abaiara                        1.627451              9.470588       23.0   \n",
       "...                                 ...                   ...        ...   \n",
       "Águas Formosas                 1.583784              9.470270       31.0   \n",
       "Águas Lindas de Goiás          1.180556              9.176587       52.0   \n",
       "Águas Vermelhas                1.627451              9.372549       31.0   \n",
       "Águia Branca                   2.517007              9.857143       32.0   \n",
       "Érico Cardoso                  1.411765              9.423529       29.0   \n",
       "\n",
       "                       CodMunicipioIbge  QtdUCRecebeCredito  \\\n",
       "NomMunicipio                                                  \n",
       "Abadia de Goiás               5200050.0            1.237374   \n",
       "Abadia dos Dourados           3100104.0            1.154412   \n",
       "Abadiânia                     5200100.0            1.306931   \n",
       "Abaeté                        3100203.0            1.292271   \n",
       "Abaiara                       2300101.0            1.490196   \n",
       "...                                 ...                 ...   \n",
       "Águas Formosas                3100906.0            2.043243   \n",
       "Águas Lindas de Goiás         5200258.0            1.138889   \n",
       "Águas Vermelhas               3101003.0            1.921569   \n",
       "Águia Branca                  3200136.0            1.068027   \n",
       "Érico Cardoso                 2900504.0            1.447059   \n",
       "\n",
       "                       MdaPotenciaInstaladaKW  AnoInstalacao  \n",
       "NomMunicipio                                                  \n",
       "Abadia de Goiás                      9.217172    2022.032609  \n",
       "Abadia dos Dourados                 10.080882    2022.071429  \n",
       "Abadiânia                           20.341584    2022.456790  \n",
       "Abaeté                              12.461353    2021.189873  \n",
       "Abaiara                             11.568627    2022.875000  \n",
       "...                                       ...            ...  \n",
       "Águas Formosas                       9.875676    2021.821429  \n",
       "Águas Lindas de Goiás               11.682540    2022.448780  \n",
       "Águas Vermelhas                     21.490196    2021.956522  \n",
       "Águia Branca                        11.663265    2023.000000  \n",
       "Érico Cardoso                        6.305882    2022.432432  \n",
       "\n",
       "[2401 rows x 7 columns]"
      ]
     },
     "metadata": {},
     "output_type": "display_data"
    }
   ],
   "source": [
    "estados = tabela.groupby(\"SigUF\").mean(numeric_only=True)\n",
    "claseConsumo = tabela.groupby(\"DscClasseConsumo\").mean(numeric_only=True)\n",
    "municipio = tabela.groupby(\"NomMunicipio\").mean(numeric_only=True)\n",
    "\n",
    "display(estados, claseConsumo, municipio)"
   ]
  },
  {
   "cell_type": "markdown",
   "metadata": {},
   "source": [
    "para excluir algo\n",
    "\n",
    "tabela = tabela[tabela[\"NomMunicipio\"] != \"Campo Grande\"]\n",
    "display(tabela[\"NomMunicipio\"].value_counts())\n",
    "display(tabela[\"NomMunicipio\"].value_counts(normalize=True))"
   ]
  },
  {
   "cell_type": "code",
   "execution_count": 46,
   "metadata": {},
   "outputs": [
    {
     "name": "stdout",
     "output_type": "stream",
     "text": [
      "   Estado Classe de Consumo  Potência Instalada (KW)\n",
      "0      AC         Comercial                  31126.0\n",
      "1      AC        Industrial                   2123.0\n",
      "2      AC     Poder Público                   2349.0\n",
      "3      AC       Residencial                  56351.0\n",
      "4      AC             Rural                   4541.0\n",
      "..    ...               ...                      ...\n",
      "90     RN             Rural                     23.0\n",
      "91     SC         Comercial                      4.0\n",
      "92     SC        Industrial                      9.0\n",
      "93     SC       Residencial                    238.0\n",
      "94     SC             Rural                     65.0\n",
      "\n",
      "[95 rows x 3 columns]\n"
     ]
    }
   ],
   "source": [
    "import pandas as pd\n",
    "\n",
    "# Remover entradas inválidas (NaN) para as colunas de estado, classe de consumo e potência instalada\n",
    "tabela_filtrada = tabela.dropna(\n",
    "    subset=[\"SigUF\", \"DscClasseConsumo\", \"MdaPotenciaInstaladaKW\"])\n",
    "\n",
    "# Agrupar por estado e classe de consumo, somando a potência instalada\n",
    "tabela_agrupada = tabela_filtrada.groupby([\"SigUF\", \"DscClasseConsumo\"])[\n",
    "    \"MdaPotenciaInstaladaKW\"].sum().reset_index()\n",
    "\n",
    "# Renomear as colunas para facilitar a leitura\n",
    "tabela_agrupada.columns = [\n",
    "    \"Estado\", \"Classe de Consumo\", \"Potência Instalada (KW)\"]\n",
    "\n",
    "# Exibir a tabela resultante\n",
    "print(tabela_agrupada)"
   ]
  },
  {
   "cell_type": "code",
   "execution_count": 48,
   "metadata": {},
   "outputs": [
    {
     "data": {
      "application/vnd.plotly.v1+json": {
       "config": {
        "plotlyServerURL": "https://plot.ly"
       },
       "data": [
        {
         "alignmentgroup": "True",
         "hovertemplate": "Classe de Consumo=Comercial<br>Estado=%{x}<br>Potência Instalada (KW)=%{y}<extra></extra>",
         "legendgroup": "Comercial",
         "marker": {
          "color": "#636efa",
          "pattern": {
           "shape": ""
          }
         },
         "name": "Comercial",
         "offsetgroup": "Comercial",
         "orientation": "v",
         "showlegend": true,
         "textposition": "auto",
         "texttemplate": "%{y}",
         "type": "bar",
         "x": [
          "AC",
          "AL",
          "AM",
          "AP",
          "BA",
          "CE",
          "DF",
          "ES",
          "GO",
          "MA",
          "MG",
          "MS",
          "MT",
          "SC"
         ],
         "xaxis": "x",
         "y": [
          31126,
          117384.84,
          76662.65,
          14148,
          401730.1,
          280508.68,
          129346.078,
          162679.93,
          352737.739,
          132553.912,
          861711.591,
          235118.623,
          186245,
          4
         ],
         "yaxis": "y"
        },
        {
         "alignmentgroup": "True",
         "hovertemplate": "Classe de Consumo=Industrial<br>Estado=%{x}<br>Potência Instalada (KW)=%{y}<extra></extra>",
         "legendgroup": "Industrial",
         "marker": {
          "color": "#EF553B",
          "pattern": {
           "shape": ""
          }
         },
         "name": "Industrial",
         "offsetgroup": "Industrial",
         "orientation": "v",
         "showlegend": true,
         "textposition": "auto",
         "texttemplate": "%{y}",
         "type": "bar",
         "x": [
          "AC",
          "AL",
          "AM",
          "AP",
          "BA",
          "CE",
          "DF",
          "ES",
          "GO",
          "MA",
          "MG",
          "MS",
          "MT",
          "SC"
         ],
         "xaxis": "x",
         "y": [
          2123,
          18184.367,
          7233.5,
          438,
          41322.95,
          65381.996,
          2684,
          42772,
          46857.66,
          12744.5,
          177540.558,
          116238.578,
          68785.304,
          9
         ],
         "yaxis": "y"
        },
        {
         "alignmentgroup": "True",
         "hovertemplate": "Classe de Consumo=Poder Público<br>Estado=%{x}<br>Potência Instalada (KW)=%{y}<extra></extra>",
         "legendgroup": "Poder Público",
         "marker": {
          "color": "#00cc96",
          "pattern": {
           "shape": ""
          }
         },
         "name": "Poder Público",
         "offsetgroup": "Poder Público",
         "orientation": "v",
         "showlegend": true,
         "textposition": "auto",
         "texttemplate": "%{y}",
         "type": "bar",
         "x": [
          "AC",
          "AL",
          "AM",
          "AP",
          "BA",
          "CE",
          "DF",
          "ES",
          "GO",
          "MA",
          "MG",
          "MS",
          "MT"
         ],
         "xaxis": "x",
         "y": [
          2349,
          2783,
          2562,
          2156,
          14391,
          14991,
          7535,
          15985.492,
          14755,
          9524.005,
          33728.263,
          15854.46,
          7406.339
         ],
         "yaxis": "y"
        },
        {
         "alignmentgroup": "True",
         "hovertemplate": "Classe de Consumo=Residencial<br>Estado=%{x}<br>Potência Instalada (KW)=%{y}<extra></extra>",
         "legendgroup": "Residencial",
         "marker": {
          "color": "#ab63fa",
          "pattern": {
           "shape": ""
          }
         },
         "name": "Residencial",
         "offsetgroup": "Residencial",
         "orientation": "v",
         "showlegend": true,
         "textposition": "auto",
         "texttemplate": "%{y}",
         "type": "bar",
         "x": [
          "AC",
          "AL",
          "AM",
          "AP",
          "BA",
          "CE",
          "DF",
          "ES",
          "GO",
          "MA",
          "MG",
          "MS",
          "MT",
          "PI",
          "PR",
          "RN",
          "SC"
         ],
         "xaxis": "x",
         "y": [
          56351,
          216266,
          102076,
          61223,
          705796,
          541851,
          155627.068,
          312787,
          759069.388,
          454640,
          1327377.147,
          602175,
          304388,
          22,
          37,
          33,
          238
         ],
         "yaxis": "y"
        },
        {
         "alignmentgroup": "True",
         "hovertemplate": "Classe de Consumo=Rural<br>Estado=%{x}<br>Potência Instalada (KW)=%{y}<extra></extra>",
         "legendgroup": "Rural",
         "marker": {
          "color": "#FFA15A",
          "pattern": {
           "shape": ""
          }
         },
         "name": "Rural",
         "offsetgroup": "Rural",
         "orientation": "v",
         "showlegend": true,
         "textposition": "auto",
         "texttemplate": "%{y}",
         "type": "bar",
         "x": [
          "AC",
          "AL",
          "AM",
          "AP",
          "BA",
          "CE",
          "DF",
          "ES",
          "GO",
          "MA",
          "MG",
          "MS",
          "MT",
          "PR",
          "RN",
          "SC"
         ],
         "xaxis": "x",
         "y": [
          4541,
          16159,
          2581,
          63,
          123997,
          80187,
          31003.84,
          202666,
          231622.075,
          35012,
          758163.506,
          184667.109,
          158362.798,
          80,
          23,
          65
         ],
         "yaxis": "y"
        },
        {
         "alignmentgroup": "True",
         "hovertemplate": "Classe de Consumo=Serviço Público<br>Estado=%{x}<br>Potência Instalada (KW)=%{y}<extra></extra>",
         "legendgroup": "Serviço Público",
         "marker": {
          "color": "#19d3f3",
          "pattern": {
           "shape": ""
          }
         },
         "name": "Serviço Público",
         "offsetgroup": "Serviço Público",
         "orientation": "v",
         "showlegend": true,
         "textposition": "auto",
         "texttemplate": "%{y}",
         "type": "bar",
         "x": [
          "AC",
          "AL",
          "AM",
          "AP",
          "BA",
          "CE",
          "DF",
          "ES",
          "GO",
          "MA",
          "MG",
          "MS",
          "MT"
         ],
         "xaxis": "x",
         "y": [
          12,
          142,
          70,
          60,
          40,
          984,
          4,
          260,
          616,
          282,
          946,
          409.5,
          121
         ],
         "yaxis": "y"
        },
        {
         "alignmentgroup": "True",
         "hovertemplate": "Classe de Consumo=Iluminação pública<br>Estado=%{x}<br>Potência Instalada (KW)=%{y}<extra></extra>",
         "legendgroup": "Iluminação pública",
         "marker": {
          "color": "#FF6692",
          "pattern": {
           "shape": ""
          }
         },
         "name": "Iluminação pública",
         "offsetgroup": "Iluminação pública",
         "orientation": "v",
         "showlegend": true,
         "textposition": "auto",
         "texttemplate": "%{y}",
         "type": "bar",
         "x": [
          "AL",
          "BA",
          "ES",
          "GO",
          "MA",
          "MG",
          "MS",
          "MT"
         ],
         "xaxis": "x",
         "y": [
          15,
          31,
          30,
          46,
          63,
          732,
          253.5,
          423
         ],
         "yaxis": "y"
        }
       ],
       "layout": {
        "barmode": "group",
        "legend": {
         "title": {
          "text": "Classe de Consumo"
         },
         "tracegroupgap": 0
        },
        "template": {
         "data": {
          "bar": [
           {
            "error_x": {
             "color": "#2a3f5f"
            },
            "error_y": {
             "color": "#2a3f5f"
            },
            "marker": {
             "line": {
              "color": "#E5ECF6",
              "width": 0.5
             },
             "pattern": {
              "fillmode": "overlay",
              "size": 10,
              "solidity": 0.2
             }
            },
            "type": "bar"
           }
          ],
          "barpolar": [
           {
            "marker": {
             "line": {
              "color": "#E5ECF6",
              "width": 0.5
             },
             "pattern": {
              "fillmode": "overlay",
              "size": 10,
              "solidity": 0.2
             }
            },
            "type": "barpolar"
           }
          ],
          "carpet": [
           {
            "aaxis": {
             "endlinecolor": "#2a3f5f",
             "gridcolor": "white",
             "linecolor": "white",
             "minorgridcolor": "white",
             "startlinecolor": "#2a3f5f"
            },
            "baxis": {
             "endlinecolor": "#2a3f5f",
             "gridcolor": "white",
             "linecolor": "white",
             "minorgridcolor": "white",
             "startlinecolor": "#2a3f5f"
            },
            "type": "carpet"
           }
          ],
          "choropleth": [
           {
            "colorbar": {
             "outlinewidth": 0,
             "ticks": ""
            },
            "type": "choropleth"
           }
          ],
          "contour": [
           {
            "colorbar": {
             "outlinewidth": 0,
             "ticks": ""
            },
            "colorscale": [
             [
              0,
              "#0d0887"
             ],
             [
              0.1111111111111111,
              "#46039f"
             ],
             [
              0.2222222222222222,
              "#7201a8"
             ],
             [
              0.3333333333333333,
              "#9c179e"
             ],
             [
              0.4444444444444444,
              "#bd3786"
             ],
             [
              0.5555555555555556,
              "#d8576b"
             ],
             [
              0.6666666666666666,
              "#ed7953"
             ],
             [
              0.7777777777777778,
              "#fb9f3a"
             ],
             [
              0.8888888888888888,
              "#fdca26"
             ],
             [
              1,
              "#f0f921"
             ]
            ],
            "type": "contour"
           }
          ],
          "contourcarpet": [
           {
            "colorbar": {
             "outlinewidth": 0,
             "ticks": ""
            },
            "type": "contourcarpet"
           }
          ],
          "heatmap": [
           {
            "colorbar": {
             "outlinewidth": 0,
             "ticks": ""
            },
            "colorscale": [
             [
              0,
              "#0d0887"
             ],
             [
              0.1111111111111111,
              "#46039f"
             ],
             [
              0.2222222222222222,
              "#7201a8"
             ],
             [
              0.3333333333333333,
              "#9c179e"
             ],
             [
              0.4444444444444444,
              "#bd3786"
             ],
             [
              0.5555555555555556,
              "#d8576b"
             ],
             [
              0.6666666666666666,
              "#ed7953"
             ],
             [
              0.7777777777777778,
              "#fb9f3a"
             ],
             [
              0.8888888888888888,
              "#fdca26"
             ],
             [
              1,
              "#f0f921"
             ]
            ],
            "type": "heatmap"
           }
          ],
          "heatmapgl": [
           {
            "colorbar": {
             "outlinewidth": 0,
             "ticks": ""
            },
            "colorscale": [
             [
              0,
              "#0d0887"
             ],
             [
              0.1111111111111111,
              "#46039f"
             ],
             [
              0.2222222222222222,
              "#7201a8"
             ],
             [
              0.3333333333333333,
              "#9c179e"
             ],
             [
              0.4444444444444444,
              "#bd3786"
             ],
             [
              0.5555555555555556,
              "#d8576b"
             ],
             [
              0.6666666666666666,
              "#ed7953"
             ],
             [
              0.7777777777777778,
              "#fb9f3a"
             ],
             [
              0.8888888888888888,
              "#fdca26"
             ],
             [
              1,
              "#f0f921"
             ]
            ],
            "type": "heatmapgl"
           }
          ],
          "histogram": [
           {
            "marker": {
             "pattern": {
              "fillmode": "overlay",
              "size": 10,
              "solidity": 0.2
             }
            },
            "type": "histogram"
           }
          ],
          "histogram2d": [
           {
            "colorbar": {
             "outlinewidth": 0,
             "ticks": ""
            },
            "colorscale": [
             [
              0,
              "#0d0887"
             ],
             [
              0.1111111111111111,
              "#46039f"
             ],
             [
              0.2222222222222222,
              "#7201a8"
             ],
             [
              0.3333333333333333,
              "#9c179e"
             ],
             [
              0.4444444444444444,
              "#bd3786"
             ],
             [
              0.5555555555555556,
              "#d8576b"
             ],
             [
              0.6666666666666666,
              "#ed7953"
             ],
             [
              0.7777777777777778,
              "#fb9f3a"
             ],
             [
              0.8888888888888888,
              "#fdca26"
             ],
             [
              1,
              "#f0f921"
             ]
            ],
            "type": "histogram2d"
           }
          ],
          "histogram2dcontour": [
           {
            "colorbar": {
             "outlinewidth": 0,
             "ticks": ""
            },
            "colorscale": [
             [
              0,
              "#0d0887"
             ],
             [
              0.1111111111111111,
              "#46039f"
             ],
             [
              0.2222222222222222,
              "#7201a8"
             ],
             [
              0.3333333333333333,
              "#9c179e"
             ],
             [
              0.4444444444444444,
              "#bd3786"
             ],
             [
              0.5555555555555556,
              "#d8576b"
             ],
             [
              0.6666666666666666,
              "#ed7953"
             ],
             [
              0.7777777777777778,
              "#fb9f3a"
             ],
             [
              0.8888888888888888,
              "#fdca26"
             ],
             [
              1,
              "#f0f921"
             ]
            ],
            "type": "histogram2dcontour"
           }
          ],
          "mesh3d": [
           {
            "colorbar": {
             "outlinewidth": 0,
             "ticks": ""
            },
            "type": "mesh3d"
           }
          ],
          "parcoords": [
           {
            "line": {
             "colorbar": {
              "outlinewidth": 0,
              "ticks": ""
             }
            },
            "type": "parcoords"
           }
          ],
          "pie": [
           {
            "automargin": true,
            "type": "pie"
           }
          ],
          "scatter": [
           {
            "fillpattern": {
             "fillmode": "overlay",
             "size": 10,
             "solidity": 0.2
            },
            "type": "scatter"
           }
          ],
          "scatter3d": [
           {
            "line": {
             "colorbar": {
              "outlinewidth": 0,
              "ticks": ""
             }
            },
            "marker": {
             "colorbar": {
              "outlinewidth": 0,
              "ticks": ""
             }
            },
            "type": "scatter3d"
           }
          ],
          "scattercarpet": [
           {
            "marker": {
             "colorbar": {
              "outlinewidth": 0,
              "ticks": ""
             }
            },
            "type": "scattercarpet"
           }
          ],
          "scattergeo": [
           {
            "marker": {
             "colorbar": {
              "outlinewidth": 0,
              "ticks": ""
             }
            },
            "type": "scattergeo"
           }
          ],
          "scattergl": [
           {
            "marker": {
             "colorbar": {
              "outlinewidth": 0,
              "ticks": ""
             }
            },
            "type": "scattergl"
           }
          ],
          "scattermapbox": [
           {
            "marker": {
             "colorbar": {
              "outlinewidth": 0,
              "ticks": ""
             }
            },
            "type": "scattermapbox"
           }
          ],
          "scatterpolar": [
           {
            "marker": {
             "colorbar": {
              "outlinewidth": 0,
              "ticks": ""
             }
            },
            "type": "scatterpolar"
           }
          ],
          "scatterpolargl": [
           {
            "marker": {
             "colorbar": {
              "outlinewidth": 0,
              "ticks": ""
             }
            },
            "type": "scatterpolargl"
           }
          ],
          "scatterternary": [
           {
            "marker": {
             "colorbar": {
              "outlinewidth": 0,
              "ticks": ""
             }
            },
            "type": "scatterternary"
           }
          ],
          "surface": [
           {
            "colorbar": {
             "outlinewidth": 0,
             "ticks": ""
            },
            "colorscale": [
             [
              0,
              "#0d0887"
             ],
             [
              0.1111111111111111,
              "#46039f"
             ],
             [
              0.2222222222222222,
              "#7201a8"
             ],
             [
              0.3333333333333333,
              "#9c179e"
             ],
             [
              0.4444444444444444,
              "#bd3786"
             ],
             [
              0.5555555555555556,
              "#d8576b"
             ],
             [
              0.6666666666666666,
              "#ed7953"
             ],
             [
              0.7777777777777778,
              "#fb9f3a"
             ],
             [
              0.8888888888888888,
              "#fdca26"
             ],
             [
              1,
              "#f0f921"
             ]
            ],
            "type": "surface"
           }
          ],
          "table": [
           {
            "cells": {
             "fill": {
              "color": "#EBF0F8"
             },
             "line": {
              "color": "white"
             }
            },
            "header": {
             "fill": {
              "color": "#C8D4E3"
             },
             "line": {
              "color": "white"
             }
            },
            "type": "table"
           }
          ]
         },
         "layout": {
          "annotationdefaults": {
           "arrowcolor": "#2a3f5f",
           "arrowhead": 0,
           "arrowwidth": 1
          },
          "autotypenumbers": "strict",
          "coloraxis": {
           "colorbar": {
            "outlinewidth": 0,
            "ticks": ""
           }
          },
          "colorscale": {
           "diverging": [
            [
             0,
             "#8e0152"
            ],
            [
             0.1,
             "#c51b7d"
            ],
            [
             0.2,
             "#de77ae"
            ],
            [
             0.3,
             "#f1b6da"
            ],
            [
             0.4,
             "#fde0ef"
            ],
            [
             0.5,
             "#f7f7f7"
            ],
            [
             0.6,
             "#e6f5d0"
            ],
            [
             0.7,
             "#b8e186"
            ],
            [
             0.8,
             "#7fbc41"
            ],
            [
             0.9,
             "#4d9221"
            ],
            [
             1,
             "#276419"
            ]
           ],
           "sequential": [
            [
             0,
             "#0d0887"
            ],
            [
             0.1111111111111111,
             "#46039f"
            ],
            [
             0.2222222222222222,
             "#7201a8"
            ],
            [
             0.3333333333333333,
             "#9c179e"
            ],
            [
             0.4444444444444444,
             "#bd3786"
            ],
            [
             0.5555555555555556,
             "#d8576b"
            ],
            [
             0.6666666666666666,
             "#ed7953"
            ],
            [
             0.7777777777777778,
             "#fb9f3a"
            ],
            [
             0.8888888888888888,
             "#fdca26"
            ],
            [
             1,
             "#f0f921"
            ]
           ],
           "sequentialminus": [
            [
             0,
             "#0d0887"
            ],
            [
             0.1111111111111111,
             "#46039f"
            ],
            [
             0.2222222222222222,
             "#7201a8"
            ],
            [
             0.3333333333333333,
             "#9c179e"
            ],
            [
             0.4444444444444444,
             "#bd3786"
            ],
            [
             0.5555555555555556,
             "#d8576b"
            ],
            [
             0.6666666666666666,
             "#ed7953"
            ],
            [
             0.7777777777777778,
             "#fb9f3a"
            ],
            [
             0.8888888888888888,
             "#fdca26"
            ],
            [
             1,
             "#f0f921"
            ]
           ]
          },
          "colorway": [
           "#636efa",
           "#EF553B",
           "#00cc96",
           "#ab63fa",
           "#FFA15A",
           "#19d3f3",
           "#FF6692",
           "#B6E880",
           "#FF97FF",
           "#FECB52"
          ],
          "font": {
           "color": "#2a3f5f"
          },
          "geo": {
           "bgcolor": "white",
           "lakecolor": "white",
           "landcolor": "#E5ECF6",
           "showlakes": true,
           "showland": true,
           "subunitcolor": "white"
          },
          "hoverlabel": {
           "align": "left"
          },
          "hovermode": "closest",
          "mapbox": {
           "style": "light"
          },
          "paper_bgcolor": "white",
          "plot_bgcolor": "#E5ECF6",
          "polar": {
           "angularaxis": {
            "gridcolor": "white",
            "linecolor": "white",
            "ticks": ""
           },
           "bgcolor": "#E5ECF6",
           "radialaxis": {
            "gridcolor": "white",
            "linecolor": "white",
            "ticks": ""
           }
          },
          "scene": {
           "xaxis": {
            "backgroundcolor": "#E5ECF6",
            "gridcolor": "white",
            "gridwidth": 2,
            "linecolor": "white",
            "showbackground": true,
            "ticks": "",
            "zerolinecolor": "white"
           },
           "yaxis": {
            "backgroundcolor": "#E5ECF6",
            "gridcolor": "white",
            "gridwidth": 2,
            "linecolor": "white",
            "showbackground": true,
            "ticks": "",
            "zerolinecolor": "white"
           },
           "zaxis": {
            "backgroundcolor": "#E5ECF6",
            "gridcolor": "white",
            "gridwidth": 2,
            "linecolor": "white",
            "showbackground": true,
            "ticks": "",
            "zerolinecolor": "white"
           }
          },
          "shapedefaults": {
           "line": {
            "color": "#2a3f5f"
           }
          },
          "ternary": {
           "aaxis": {
            "gridcolor": "white",
            "linecolor": "white",
            "ticks": ""
           },
           "baxis": {
            "gridcolor": "white",
            "linecolor": "white",
            "ticks": ""
           },
           "bgcolor": "#E5ECF6",
           "caxis": {
            "gridcolor": "white",
            "linecolor": "white",
            "ticks": ""
           }
          },
          "title": {
           "x": 0.05
          },
          "xaxis": {
           "automargin": true,
           "gridcolor": "white",
           "linecolor": "white",
           "ticks": "",
           "title": {
            "standoff": 15
           },
           "zerolinecolor": "white",
           "zerolinewidth": 2
          },
          "yaxis": {
           "automargin": true,
           "gridcolor": "white",
           "linecolor": "white",
           "ticks": "",
           "title": {
            "standoff": 15
           },
           "zerolinecolor": "white",
           "zerolinewidth": 2
          }
         }
        },
        "title": {
         "text": "Potência Instalada por Estado e Classe de Consumo"
        },
        "xaxis": {
         "anchor": "y",
         "domain": [
          0,
          1
         ],
         "title": {
          "text": "Estado"
         }
        },
        "yaxis": {
         "anchor": "x",
         "domain": [
          0,
          1
         ],
         "range": [
          0,
          1400000
         ],
         "title": {
          "text": "Potência Instalada (KW)"
         }
        }
       }
      }
     },
     "metadata": {},
     "output_type": "display_data"
    }
   ],
   "source": [
    "# Remover entradas inválidas (NaN) para as colunas de estado, classe de consumo e potência instalada\n",
    "tabela_filtrada = tabela.dropna(\n",
    "    subset=[\"SigUF\", \"DscClasseConsumo\", \"MdaPotenciaInstaladaKW\"])\n",
    "\n",
    "# Agrupar por estado e classe de consumo, somando a potência instalada\n",
    "tabela_agrupada = tabela_filtrada.groupby([\"SigUF\", \"DscClasseConsumo\"])[\n",
    "    \"MdaPotenciaInstaladaKW\"].sum().reset_index()\n",
    "\n",
    "# Criar o gráfico de barras para exibir a potência instalada por estado e classe de consumo\n",
    "grafico = px.bar(\n",
    "    tabela_agrupada,\n",
    "    x=\"SigUF\",  # Estados no eixo X\n",
    "    y=\"MdaPotenciaInstaladaKW\",  # Potência instalada no eixo Y\n",
    "    color=\"DscClasseConsumo\",  # Organizar as classes por cores\n",
    "    title=\"Potência Instalada por Estado e Classe de Consumo\",\n",
    "    labels={\"SigUF\": \"Estado\", \"MdaPotenciaInstaladaKW\":\n",
    "            \"Potência Instalada (KW)\", \"DscClasseConsumo\": \"Classe de Consumo\"},\n",
    "    barmode=\"group\",  # Empilhar as barras para cada classe de consumo em cada estado\n",
    "    text_auto=True,  # Exibir os valores nas barras\n",
    "    range_y=[0, 1400000]  # Definir o limite máximo do eixo Y como 3 milhões\n",
    ")\n",
    "\n",
    "# Exibir o gráfico\n",
    "grafico.show()"
   ]
  },
  {
   "cell_type": "code",
   "execution_count": 49,
   "metadata": {},
   "outputs": [
    {
     "data": {
      "application/vnd.plotly.v1+json": {
       "config": {
        "plotlyServerURL": "https://plot.ly"
       },
       "data": [
        {
         "hovertemplate": "Classe de Consumo=Residencial<br>Ano=%{x}<br>Total Acumulado de Empreendimentos=%{y}<extra></extra>",
         "legendgroup": "Residencial",
         "line": {
          "color": "#636efa",
          "dash": "solid"
         },
         "marker": {
          "symbol": "circle"
         },
         "mode": "lines+markers",
         "name": "Residencial",
         "orientation": "v",
         "showlegend": true,
         "type": "scatter",
         "x": [
          2011,
          2013,
          2014,
          2015,
          2016,
          2017,
          2018,
          2019,
          2020,
          2021,
          2022,
          2023,
          2024
         ],
         "xaxis": "x",
         "y": [
          1,
          6,
          45,
          219,
          1027,
          2388,
          6133,
          19558,
          44196,
          96780,
          179710,
          254396,
          306068
         ],
         "yaxis": "y"
        },
        {
         "hovertemplate": "Classe de Consumo=Comercial<br>Ano=%{x}<br>Total Acumulado de Empreendimentos=%{y}<extra></extra>",
         "legendgroup": "Comercial",
         "line": {
          "color": "#EF553B",
          "dash": "solid"
         },
         "marker": {
          "symbol": "circle"
         },
         "mode": "lines+markers",
         "name": "Comercial",
         "orientation": "v",
         "showlegend": true,
         "type": "scatter",
         "x": [
          2012,
          2013,
          2014,
          2015,
          2016,
          2017,
          2018,
          2019,
          2020,
          2021,
          2022,
          2023,
          2024
         ],
         "xaxis": "x",
         "y": [
          2,
          4,
          16,
          43,
          195,
          510,
          1517,
          5458,
          11471,
          19108,
          29687,
          40012,
          44463
         ],
         "yaxis": "y"
        },
        {
         "hovertemplate": "Classe de Consumo=Industrial<br>Ano=%{x}<br>Total Acumulado de Empreendimentos=%{y}<extra></extra>",
         "legendgroup": "Industrial",
         "line": {
          "color": "#00cc96",
          "dash": "solid"
         },
         "marker": {
          "symbol": "circle"
         },
         "mode": "lines+markers",
         "name": "Industrial",
         "orientation": "v",
         "showlegend": true,
         "type": "scatter",
         "x": [
          2012,
          2013,
          2014,
          2015,
          2016,
          2017,
          2018,
          2019,
          2020,
          2021,
          2022,
          2023,
          2024
         ],
         "xaxis": "x",
         "y": [
          1,
          4,
          7,
          11,
          35,
          73,
          584,
          1114,
          1827,
          2771,
          3835,
          4732,
          5130
         ],
         "yaxis": "y"
        },
        {
         "hovertemplate": "Classe de Consumo=Poder Público<br>Ano=%{x}<br>Total Acumulado de Empreendimentos=%{y}<extra></extra>",
         "legendgroup": "Poder Público",
         "line": {
          "color": "#ab63fa",
          "dash": "solid"
         },
         "marker": {
          "symbol": "circle"
         },
         "mode": "lines+markers",
         "name": "Poder Público",
         "orientation": "v",
         "showlegend": true,
         "type": "scatter",
         "x": [
          2015,
          2016,
          2017,
          2018,
          2019,
          2020,
          2021,
          2022,
          2023,
          2024
         ],
         "xaxis": "x",
         "y": [
          1,
          7,
          32,
          59,
          138,
          263,
          401,
          622,
          1118,
          1366
         ],
         "yaxis": "y"
        },
        {
         "hovertemplate": "Classe de Consumo=Rural<br>Ano=%{x}<br>Total Acumulado de Empreendimentos=%{y}<extra></extra>",
         "legendgroup": "Rural",
         "line": {
          "color": "#FFA15A",
          "dash": "solid"
         },
         "marker": {
          "symbol": "circle"
         },
         "mode": "lines+markers",
         "name": "Rural",
         "orientation": "v",
         "showlegend": true,
         "type": "scatter",
         "x": [
          2015,
          2016,
          2017,
          2018,
          2019,
          2020,
          2021,
          2022,
          2023,
          2024
         ],
         "xaxis": "x",
         "y": [
          3,
          37,
          151,
          498,
          2046,
          5279,
          11825,
          22634,
          33650,
          39745
         ],
         "yaxis": "y"
        },
        {
         "hovertemplate": "Classe de Consumo=Iluminação pública<br>Ano=%{x}<br>Total Acumulado de Empreendimentos=%{y}<extra></extra>",
         "legendgroup": "Iluminação pública",
         "line": {
          "color": "#19d3f3",
          "dash": "solid"
         },
         "marker": {
          "symbol": "circle"
         },
         "mode": "lines+markers",
         "name": "Iluminação pública",
         "orientation": "v",
         "showlegend": true,
         "type": "scatter",
         "x": [
          2016,
          2020,
          2021,
          2022,
          2023,
          2024
         ],
         "xaxis": "x",
         "y": [
          1,
          3,
          5,
          8,
          12,
          15
         ],
         "yaxis": "y"
        },
        {
         "hovertemplate": "Classe de Consumo=Serviço Público<br>Ano=%{x}<br>Total Acumulado de Empreendimentos=%{y}<extra></extra>",
         "legendgroup": "Serviço Público",
         "line": {
          "color": "#FF6692",
          "dash": "solid"
         },
         "marker": {
          "symbol": "circle"
         },
         "mode": "lines+markers",
         "name": "Serviço Público",
         "orientation": "v",
         "showlegend": true,
         "type": "scatter",
         "x": [
          2016,
          2017,
          2019,
          2020,
          2021,
          2022,
          2023,
          2024
         ],
         "xaxis": "x",
         "y": [
          3,
          6,
          12,
          18,
          24,
          26,
          33,
          37
         ],
         "yaxis": "y"
        }
       ],
       "layout": {
        "legend": {
         "title": {
          "text": "Classe de Consumo"
         },
         "tracegroupgap": 0
        },
        "template": {
         "data": {
          "bar": [
           {
            "error_x": {
             "color": "#2a3f5f"
            },
            "error_y": {
             "color": "#2a3f5f"
            },
            "marker": {
             "line": {
              "color": "#E5ECF6",
              "width": 0.5
             },
             "pattern": {
              "fillmode": "overlay",
              "size": 10,
              "solidity": 0.2
             }
            },
            "type": "bar"
           }
          ],
          "barpolar": [
           {
            "marker": {
             "line": {
              "color": "#E5ECF6",
              "width": 0.5
             },
             "pattern": {
              "fillmode": "overlay",
              "size": 10,
              "solidity": 0.2
             }
            },
            "type": "barpolar"
           }
          ],
          "carpet": [
           {
            "aaxis": {
             "endlinecolor": "#2a3f5f",
             "gridcolor": "white",
             "linecolor": "white",
             "minorgridcolor": "white",
             "startlinecolor": "#2a3f5f"
            },
            "baxis": {
             "endlinecolor": "#2a3f5f",
             "gridcolor": "white",
             "linecolor": "white",
             "minorgridcolor": "white",
             "startlinecolor": "#2a3f5f"
            },
            "type": "carpet"
           }
          ],
          "choropleth": [
           {
            "colorbar": {
             "outlinewidth": 0,
             "ticks": ""
            },
            "type": "choropleth"
           }
          ],
          "contour": [
           {
            "colorbar": {
             "outlinewidth": 0,
             "ticks": ""
            },
            "colorscale": [
             [
              0,
              "#0d0887"
             ],
             [
              0.1111111111111111,
              "#46039f"
             ],
             [
              0.2222222222222222,
              "#7201a8"
             ],
             [
              0.3333333333333333,
              "#9c179e"
             ],
             [
              0.4444444444444444,
              "#bd3786"
             ],
             [
              0.5555555555555556,
              "#d8576b"
             ],
             [
              0.6666666666666666,
              "#ed7953"
             ],
             [
              0.7777777777777778,
              "#fb9f3a"
             ],
             [
              0.8888888888888888,
              "#fdca26"
             ],
             [
              1,
              "#f0f921"
             ]
            ],
            "type": "contour"
           }
          ],
          "contourcarpet": [
           {
            "colorbar": {
             "outlinewidth": 0,
             "ticks": ""
            },
            "type": "contourcarpet"
           }
          ],
          "heatmap": [
           {
            "colorbar": {
             "outlinewidth": 0,
             "ticks": ""
            },
            "colorscale": [
             [
              0,
              "#0d0887"
             ],
             [
              0.1111111111111111,
              "#46039f"
             ],
             [
              0.2222222222222222,
              "#7201a8"
             ],
             [
              0.3333333333333333,
              "#9c179e"
             ],
             [
              0.4444444444444444,
              "#bd3786"
             ],
             [
              0.5555555555555556,
              "#d8576b"
             ],
             [
              0.6666666666666666,
              "#ed7953"
             ],
             [
              0.7777777777777778,
              "#fb9f3a"
             ],
             [
              0.8888888888888888,
              "#fdca26"
             ],
             [
              1,
              "#f0f921"
             ]
            ],
            "type": "heatmap"
           }
          ],
          "heatmapgl": [
           {
            "colorbar": {
             "outlinewidth": 0,
             "ticks": ""
            },
            "colorscale": [
             [
              0,
              "#0d0887"
             ],
             [
              0.1111111111111111,
              "#46039f"
             ],
             [
              0.2222222222222222,
              "#7201a8"
             ],
             [
              0.3333333333333333,
              "#9c179e"
             ],
             [
              0.4444444444444444,
              "#bd3786"
             ],
             [
              0.5555555555555556,
              "#d8576b"
             ],
             [
              0.6666666666666666,
              "#ed7953"
             ],
             [
              0.7777777777777778,
              "#fb9f3a"
             ],
             [
              0.8888888888888888,
              "#fdca26"
             ],
             [
              1,
              "#f0f921"
             ]
            ],
            "type": "heatmapgl"
           }
          ],
          "histogram": [
           {
            "marker": {
             "pattern": {
              "fillmode": "overlay",
              "size": 10,
              "solidity": 0.2
             }
            },
            "type": "histogram"
           }
          ],
          "histogram2d": [
           {
            "colorbar": {
             "outlinewidth": 0,
             "ticks": ""
            },
            "colorscale": [
             [
              0,
              "#0d0887"
             ],
             [
              0.1111111111111111,
              "#46039f"
             ],
             [
              0.2222222222222222,
              "#7201a8"
             ],
             [
              0.3333333333333333,
              "#9c179e"
             ],
             [
              0.4444444444444444,
              "#bd3786"
             ],
             [
              0.5555555555555556,
              "#d8576b"
             ],
             [
              0.6666666666666666,
              "#ed7953"
             ],
             [
              0.7777777777777778,
              "#fb9f3a"
             ],
             [
              0.8888888888888888,
              "#fdca26"
             ],
             [
              1,
              "#f0f921"
             ]
            ],
            "type": "histogram2d"
           }
          ],
          "histogram2dcontour": [
           {
            "colorbar": {
             "outlinewidth": 0,
             "ticks": ""
            },
            "colorscale": [
             [
              0,
              "#0d0887"
             ],
             [
              0.1111111111111111,
              "#46039f"
             ],
             [
              0.2222222222222222,
              "#7201a8"
             ],
             [
              0.3333333333333333,
              "#9c179e"
             ],
             [
              0.4444444444444444,
              "#bd3786"
             ],
             [
              0.5555555555555556,
              "#d8576b"
             ],
             [
              0.6666666666666666,
              "#ed7953"
             ],
             [
              0.7777777777777778,
              "#fb9f3a"
             ],
             [
              0.8888888888888888,
              "#fdca26"
             ],
             [
              1,
              "#f0f921"
             ]
            ],
            "type": "histogram2dcontour"
           }
          ],
          "mesh3d": [
           {
            "colorbar": {
             "outlinewidth": 0,
             "ticks": ""
            },
            "type": "mesh3d"
           }
          ],
          "parcoords": [
           {
            "line": {
             "colorbar": {
              "outlinewidth": 0,
              "ticks": ""
             }
            },
            "type": "parcoords"
           }
          ],
          "pie": [
           {
            "automargin": true,
            "type": "pie"
           }
          ],
          "scatter": [
           {
            "fillpattern": {
             "fillmode": "overlay",
             "size": 10,
             "solidity": 0.2
            },
            "type": "scatter"
           }
          ],
          "scatter3d": [
           {
            "line": {
             "colorbar": {
              "outlinewidth": 0,
              "ticks": ""
             }
            },
            "marker": {
             "colorbar": {
              "outlinewidth": 0,
              "ticks": ""
             }
            },
            "type": "scatter3d"
           }
          ],
          "scattercarpet": [
           {
            "marker": {
             "colorbar": {
              "outlinewidth": 0,
              "ticks": ""
             }
            },
            "type": "scattercarpet"
           }
          ],
          "scattergeo": [
           {
            "marker": {
             "colorbar": {
              "outlinewidth": 0,
              "ticks": ""
             }
            },
            "type": "scattergeo"
           }
          ],
          "scattergl": [
           {
            "marker": {
             "colorbar": {
              "outlinewidth": 0,
              "ticks": ""
             }
            },
            "type": "scattergl"
           }
          ],
          "scattermapbox": [
           {
            "marker": {
             "colorbar": {
              "outlinewidth": 0,
              "ticks": ""
             }
            },
            "type": "scattermapbox"
           }
          ],
          "scatterpolar": [
           {
            "marker": {
             "colorbar": {
              "outlinewidth": 0,
              "ticks": ""
             }
            },
            "type": "scatterpolar"
           }
          ],
          "scatterpolargl": [
           {
            "marker": {
             "colorbar": {
              "outlinewidth": 0,
              "ticks": ""
             }
            },
            "type": "scatterpolargl"
           }
          ],
          "scatterternary": [
           {
            "marker": {
             "colorbar": {
              "outlinewidth": 0,
              "ticks": ""
             }
            },
            "type": "scatterternary"
           }
          ],
          "surface": [
           {
            "colorbar": {
             "outlinewidth": 0,
             "ticks": ""
            },
            "colorscale": [
             [
              0,
              "#0d0887"
             ],
             [
              0.1111111111111111,
              "#46039f"
             ],
             [
              0.2222222222222222,
              "#7201a8"
             ],
             [
              0.3333333333333333,
              "#9c179e"
             ],
             [
              0.4444444444444444,
              "#bd3786"
             ],
             [
              0.5555555555555556,
              "#d8576b"
             ],
             [
              0.6666666666666666,
              "#ed7953"
             ],
             [
              0.7777777777777778,
              "#fb9f3a"
             ],
             [
              0.8888888888888888,
              "#fdca26"
             ],
             [
              1,
              "#f0f921"
             ]
            ],
            "type": "surface"
           }
          ],
          "table": [
           {
            "cells": {
             "fill": {
              "color": "#EBF0F8"
             },
             "line": {
              "color": "white"
             }
            },
            "header": {
             "fill": {
              "color": "#C8D4E3"
             },
             "line": {
              "color": "white"
             }
            },
            "type": "table"
           }
          ]
         },
         "layout": {
          "annotationdefaults": {
           "arrowcolor": "#2a3f5f",
           "arrowhead": 0,
           "arrowwidth": 1
          },
          "autotypenumbers": "strict",
          "coloraxis": {
           "colorbar": {
            "outlinewidth": 0,
            "ticks": ""
           }
          },
          "colorscale": {
           "diverging": [
            [
             0,
             "#8e0152"
            ],
            [
             0.1,
             "#c51b7d"
            ],
            [
             0.2,
             "#de77ae"
            ],
            [
             0.3,
             "#f1b6da"
            ],
            [
             0.4,
             "#fde0ef"
            ],
            [
             0.5,
             "#f7f7f7"
            ],
            [
             0.6,
             "#e6f5d0"
            ],
            [
             0.7,
             "#b8e186"
            ],
            [
             0.8,
             "#7fbc41"
            ],
            [
             0.9,
             "#4d9221"
            ],
            [
             1,
             "#276419"
            ]
           ],
           "sequential": [
            [
             0,
             "#0d0887"
            ],
            [
             0.1111111111111111,
             "#46039f"
            ],
            [
             0.2222222222222222,
             "#7201a8"
            ],
            [
             0.3333333333333333,
             "#9c179e"
            ],
            [
             0.4444444444444444,
             "#bd3786"
            ],
            [
             0.5555555555555556,
             "#d8576b"
            ],
            [
             0.6666666666666666,
             "#ed7953"
            ],
            [
             0.7777777777777778,
             "#fb9f3a"
            ],
            [
             0.8888888888888888,
             "#fdca26"
            ],
            [
             1,
             "#f0f921"
            ]
           ],
           "sequentialminus": [
            [
             0,
             "#0d0887"
            ],
            [
             0.1111111111111111,
             "#46039f"
            ],
            [
             0.2222222222222222,
             "#7201a8"
            ],
            [
             0.3333333333333333,
             "#9c179e"
            ],
            [
             0.4444444444444444,
             "#bd3786"
            ],
            [
             0.5555555555555556,
             "#d8576b"
            ],
            [
             0.6666666666666666,
             "#ed7953"
            ],
            [
             0.7777777777777778,
             "#fb9f3a"
            ],
            [
             0.8888888888888888,
             "#fdca26"
            ],
            [
             1,
             "#f0f921"
            ]
           ]
          },
          "colorway": [
           "#636efa",
           "#EF553B",
           "#00cc96",
           "#ab63fa",
           "#FFA15A",
           "#19d3f3",
           "#FF6692",
           "#B6E880",
           "#FF97FF",
           "#FECB52"
          ],
          "font": {
           "color": "#2a3f5f"
          },
          "geo": {
           "bgcolor": "white",
           "lakecolor": "white",
           "landcolor": "#E5ECF6",
           "showlakes": true,
           "showland": true,
           "subunitcolor": "white"
          },
          "hoverlabel": {
           "align": "left"
          },
          "hovermode": "closest",
          "mapbox": {
           "style": "light"
          },
          "paper_bgcolor": "white",
          "plot_bgcolor": "#E5ECF6",
          "polar": {
           "angularaxis": {
            "gridcolor": "white",
            "linecolor": "white",
            "ticks": ""
           },
           "bgcolor": "#E5ECF6",
           "radialaxis": {
            "gridcolor": "white",
            "linecolor": "white",
            "ticks": ""
           }
          },
          "scene": {
           "xaxis": {
            "backgroundcolor": "#E5ECF6",
            "gridcolor": "white",
            "gridwidth": 2,
            "linecolor": "white",
            "showbackground": true,
            "ticks": "",
            "zerolinecolor": "white"
           },
           "yaxis": {
            "backgroundcolor": "#E5ECF6",
            "gridcolor": "white",
            "gridwidth": 2,
            "linecolor": "white",
            "showbackground": true,
            "ticks": "",
            "zerolinecolor": "white"
           },
           "zaxis": {
            "backgroundcolor": "#E5ECF6",
            "gridcolor": "white",
            "gridwidth": 2,
            "linecolor": "white",
            "showbackground": true,
            "ticks": "",
            "zerolinecolor": "white"
           }
          },
          "shapedefaults": {
           "line": {
            "color": "#2a3f5f"
           }
          },
          "ternary": {
           "aaxis": {
            "gridcolor": "white",
            "linecolor": "white",
            "ticks": ""
           },
           "baxis": {
            "gridcolor": "white",
            "linecolor": "white",
            "ticks": ""
           },
           "bgcolor": "#E5ECF6",
           "caxis": {
            "gridcolor": "white",
            "linecolor": "white",
            "ticks": ""
           }
          },
          "title": {
           "x": 0.05
          },
          "xaxis": {
           "automargin": true,
           "gridcolor": "white",
           "linecolor": "white",
           "ticks": "",
           "title": {
            "standoff": 15
           },
           "zerolinecolor": "white",
           "zerolinewidth": 2
          },
          "yaxis": {
           "automargin": true,
           "gridcolor": "white",
           "linecolor": "white",
           "ticks": "",
           "title": {
            "standoff": 15
           },
           "zerolinecolor": "white",
           "zerolinewidth": 2
          }
         }
        },
        "title": {
         "text": "Crescimento Acumulado das Classes de Consumo em de distribuída Solar Fotovoltaica ao longo dos anos"
        },
        "xaxis": {
         "anchor": "y",
         "domain": [
          0,
          1
         ],
         "title": {
          "text": "Ano"
         }
        },
        "yaxis": {
         "anchor": "x",
         "domain": [
          0,
          1
         ],
         "title": {
          "text": "Total Acumulado de Empreendimentos"
         }
        }
       }
      }
     },
     "metadata": {},
     "output_type": "display_data"
    }
   ],
   "source": [
    "tabela[\"DthAtualizaCadastralEmpreend\"] = pd.to_datetime(\n",
    "tabela[\"DthAtualizaCadastralEmpreend\"], errors='coerce')\n",
    "\n",
    "tabela[\"AnoInstalacao\"] = tabela[\"DthAtualizaCadastralEmpreend\"].dt.year\n",
    "\n",
    "tabela_filtrada = tabela.dropna(subset=[\"AnoInstalacao\", \"DscClasseConsumo\"])\n",
    "\n",
    "tabela_agrupada = tabela_filtrada.groupby([\"AnoInstalacao\", \"DscClasseConsumo\"]).size(\n",
    ").reset_index(name=\"QuantidadeEmpreendimentos\")\n",
    "\n",
    "tabela_agrupada[\"TotalAcumulado\"] = tabela_agrupada.groupby(\n",
    "    \"DscClasseConsumo\")[\"QuantidadeEmpreendimentos\"].cumsum()\n",
    "\n",
    "grafico = px.line(\n",
    "    tabela_agrupada,\n",
    "    x=\"AnoInstalacao\",\n",
    "    y=\"TotalAcumulado\",\n",
    "    color=\"DscClasseConsumo\",\n",
    "    title=\"Crescimento Acumulado das Classes de Consumo em de distribuída Solar Fotovoltaica ao longo dos anos\",\n",
    "    labels={\"AnoInstalacao\": \"Ano\", \"TotalAcumulado\": \"Total Acumulado de Empreendimentos\",\n",
    "            \"DscClasseConsumo\": \"Classe de Consumo\"},\n",
    "    markers=True  \n",
    ")\n",
    "\n",
    "grafico.show()"
   ]
  },
  {
   "cell_type": "code",
   "execution_count": 50,
   "metadata": {},
   "outputs": [
    {
     "data": {
      "application/vnd.plotly.v1+json": {
       "config": {
        "plotlyServerURL": "https://plot.ly"
       },
       "data": [
        {
         "alignmentgroup": "True",
         "hovertemplate": "Classe de Consumo=Residencial<br>Ano=%{x}<br>Número de Empreendimentos=%{y}<extra></extra>",
         "legendgroup": "Residencial",
         "marker": {
          "color": "#636efa",
          "pattern": {
           "shape": ""
          }
         },
         "name": "Residencial",
         "offsetgroup": "Residencial",
         "orientation": "v",
         "showlegend": true,
         "textposition": "auto",
         "type": "bar",
         "x": [
          2011,
          2013,
          2014,
          2015,
          2016,
          2017,
          2018,
          2019,
          2020,
          2021,
          2022,
          2023,
          2024
         ],
         "xaxis": "x",
         "y": [
          1,
          5,
          39,
          174,
          808,
          1361,
          3745,
          13425,
          24638,
          52584,
          82930,
          74686,
          51672
         ],
         "yaxis": "y"
        },
        {
         "alignmentgroup": "True",
         "hovertemplate": "Classe de Consumo=Comercial<br>Ano=%{x}<br>Número de Empreendimentos=%{y}<extra></extra>",
         "legendgroup": "Comercial",
         "marker": {
          "color": "#EF553B",
          "pattern": {
           "shape": ""
          }
         },
         "name": "Comercial",
         "offsetgroup": "Comercial",
         "orientation": "v",
         "showlegend": true,
         "textposition": "auto",
         "type": "bar",
         "x": [
          2012,
          2013,
          2014,
          2015,
          2016,
          2017,
          2018,
          2019,
          2020,
          2021,
          2022,
          2023,
          2024
         ],
         "xaxis": "x",
         "y": [
          2,
          2,
          12,
          27,
          152,
          315,
          1007,
          3941,
          6013,
          7637,
          10579,
          10325,
          4451
         ],
         "yaxis": "y"
        },
        {
         "alignmentgroup": "True",
         "hovertemplate": "Classe de Consumo=Industrial<br>Ano=%{x}<br>Número de Empreendimentos=%{y}<extra></extra>",
         "legendgroup": "Industrial",
         "marker": {
          "color": "#00cc96",
          "pattern": {
           "shape": ""
          }
         },
         "name": "Industrial",
         "offsetgroup": "Industrial",
         "orientation": "v",
         "showlegend": true,
         "textposition": "auto",
         "type": "bar",
         "x": [
          2012,
          2013,
          2014,
          2015,
          2016,
          2017,
          2018,
          2019,
          2020,
          2021,
          2022,
          2023,
          2024
         ],
         "xaxis": "x",
         "y": [
          1,
          3,
          3,
          4,
          24,
          38,
          511,
          530,
          713,
          944,
          1064,
          897,
          398
         ],
         "yaxis": "y"
        },
        {
         "alignmentgroup": "True",
         "hovertemplate": "Classe de Consumo=Poder Público<br>Ano=%{x}<br>Número de Empreendimentos=%{y}<extra></extra>",
         "legendgroup": "Poder Público",
         "marker": {
          "color": "#ab63fa",
          "pattern": {
           "shape": ""
          }
         },
         "name": "Poder Público",
         "offsetgroup": "Poder Público",
         "orientation": "v",
         "showlegend": true,
         "textposition": "auto",
         "type": "bar",
         "x": [
          2015,
          2016,
          2017,
          2018,
          2019,
          2020,
          2021,
          2022,
          2023,
          2024
         ],
         "xaxis": "x",
         "y": [
          1,
          6,
          25,
          27,
          79,
          125,
          138,
          221,
          496,
          248
         ],
         "yaxis": "y"
        },
        {
         "alignmentgroup": "True",
         "hovertemplate": "Classe de Consumo=Rural<br>Ano=%{x}<br>Número de Empreendimentos=%{y}<extra></extra>",
         "legendgroup": "Rural",
         "marker": {
          "color": "#FFA15A",
          "pattern": {
           "shape": ""
          }
         },
         "name": "Rural",
         "offsetgroup": "Rural",
         "orientation": "v",
         "showlegend": true,
         "textposition": "auto",
         "type": "bar",
         "x": [
          2015,
          2016,
          2017,
          2018,
          2019,
          2020,
          2021,
          2022,
          2023,
          2024
         ],
         "xaxis": "x",
         "y": [
          3,
          34,
          114,
          347,
          1548,
          3233,
          6546,
          10809,
          11016,
          6095
         ],
         "yaxis": "y"
        },
        {
         "alignmentgroup": "True",
         "hovertemplate": "Classe de Consumo=Iluminação pública<br>Ano=%{x}<br>Número de Empreendimentos=%{y}<extra></extra>",
         "legendgroup": "Iluminação pública",
         "marker": {
          "color": "#19d3f3",
          "pattern": {
           "shape": ""
          }
         },
         "name": "Iluminação pública",
         "offsetgroup": "Iluminação pública",
         "orientation": "v",
         "showlegend": true,
         "textposition": "auto",
         "type": "bar",
         "x": [
          2016,
          2020,
          2021,
          2022,
          2023,
          2024
         ],
         "xaxis": "x",
         "y": [
          1,
          2,
          2,
          3,
          4,
          3
         ],
         "yaxis": "y"
        },
        {
         "alignmentgroup": "True",
         "hovertemplate": "Classe de Consumo=Serviço Público<br>Ano=%{x}<br>Número de Empreendimentos=%{y}<extra></extra>",
         "legendgroup": "Serviço Público",
         "marker": {
          "color": "#FF6692",
          "pattern": {
           "shape": ""
          }
         },
         "name": "Serviço Público",
         "offsetgroup": "Serviço Público",
         "orientation": "v",
         "showlegend": true,
         "textposition": "auto",
         "type": "bar",
         "x": [
          2016,
          2017,
          2019,
          2020,
          2021,
          2022,
          2023,
          2024
         ],
         "xaxis": "x",
         "y": [
          3,
          3,
          6,
          6,
          6,
          2,
          7,
          4
         ],
         "yaxis": "y"
        }
       ],
       "layout": {
        "barmode": "group",
        "legend": {
         "title": {
          "text": "Classe de Consumo"
         },
         "tracegroupgap": 0
        },
        "template": {
         "data": {
          "bar": [
           {
            "error_x": {
             "color": "#2a3f5f"
            },
            "error_y": {
             "color": "#2a3f5f"
            },
            "marker": {
             "line": {
              "color": "#E5ECF6",
              "width": 0.5
             },
             "pattern": {
              "fillmode": "overlay",
              "size": 10,
              "solidity": 0.2
             }
            },
            "type": "bar"
           }
          ],
          "barpolar": [
           {
            "marker": {
             "line": {
              "color": "#E5ECF6",
              "width": 0.5
             },
             "pattern": {
              "fillmode": "overlay",
              "size": 10,
              "solidity": 0.2
             }
            },
            "type": "barpolar"
           }
          ],
          "carpet": [
           {
            "aaxis": {
             "endlinecolor": "#2a3f5f",
             "gridcolor": "white",
             "linecolor": "white",
             "minorgridcolor": "white",
             "startlinecolor": "#2a3f5f"
            },
            "baxis": {
             "endlinecolor": "#2a3f5f",
             "gridcolor": "white",
             "linecolor": "white",
             "minorgridcolor": "white",
             "startlinecolor": "#2a3f5f"
            },
            "type": "carpet"
           }
          ],
          "choropleth": [
           {
            "colorbar": {
             "outlinewidth": 0,
             "ticks": ""
            },
            "type": "choropleth"
           }
          ],
          "contour": [
           {
            "colorbar": {
             "outlinewidth": 0,
             "ticks": ""
            },
            "colorscale": [
             [
              0,
              "#0d0887"
             ],
             [
              0.1111111111111111,
              "#46039f"
             ],
             [
              0.2222222222222222,
              "#7201a8"
             ],
             [
              0.3333333333333333,
              "#9c179e"
             ],
             [
              0.4444444444444444,
              "#bd3786"
             ],
             [
              0.5555555555555556,
              "#d8576b"
             ],
             [
              0.6666666666666666,
              "#ed7953"
             ],
             [
              0.7777777777777778,
              "#fb9f3a"
             ],
             [
              0.8888888888888888,
              "#fdca26"
             ],
             [
              1,
              "#f0f921"
             ]
            ],
            "type": "contour"
           }
          ],
          "contourcarpet": [
           {
            "colorbar": {
             "outlinewidth": 0,
             "ticks": ""
            },
            "type": "contourcarpet"
           }
          ],
          "heatmap": [
           {
            "colorbar": {
             "outlinewidth": 0,
             "ticks": ""
            },
            "colorscale": [
             [
              0,
              "#0d0887"
             ],
             [
              0.1111111111111111,
              "#46039f"
             ],
             [
              0.2222222222222222,
              "#7201a8"
             ],
             [
              0.3333333333333333,
              "#9c179e"
             ],
             [
              0.4444444444444444,
              "#bd3786"
             ],
             [
              0.5555555555555556,
              "#d8576b"
             ],
             [
              0.6666666666666666,
              "#ed7953"
             ],
             [
              0.7777777777777778,
              "#fb9f3a"
             ],
             [
              0.8888888888888888,
              "#fdca26"
             ],
             [
              1,
              "#f0f921"
             ]
            ],
            "type": "heatmap"
           }
          ],
          "heatmapgl": [
           {
            "colorbar": {
             "outlinewidth": 0,
             "ticks": ""
            },
            "colorscale": [
             [
              0,
              "#0d0887"
             ],
             [
              0.1111111111111111,
              "#46039f"
             ],
             [
              0.2222222222222222,
              "#7201a8"
             ],
             [
              0.3333333333333333,
              "#9c179e"
             ],
             [
              0.4444444444444444,
              "#bd3786"
             ],
             [
              0.5555555555555556,
              "#d8576b"
             ],
             [
              0.6666666666666666,
              "#ed7953"
             ],
             [
              0.7777777777777778,
              "#fb9f3a"
             ],
             [
              0.8888888888888888,
              "#fdca26"
             ],
             [
              1,
              "#f0f921"
             ]
            ],
            "type": "heatmapgl"
           }
          ],
          "histogram": [
           {
            "marker": {
             "pattern": {
              "fillmode": "overlay",
              "size": 10,
              "solidity": 0.2
             }
            },
            "type": "histogram"
           }
          ],
          "histogram2d": [
           {
            "colorbar": {
             "outlinewidth": 0,
             "ticks": ""
            },
            "colorscale": [
             [
              0,
              "#0d0887"
             ],
             [
              0.1111111111111111,
              "#46039f"
             ],
             [
              0.2222222222222222,
              "#7201a8"
             ],
             [
              0.3333333333333333,
              "#9c179e"
             ],
             [
              0.4444444444444444,
              "#bd3786"
             ],
             [
              0.5555555555555556,
              "#d8576b"
             ],
             [
              0.6666666666666666,
              "#ed7953"
             ],
             [
              0.7777777777777778,
              "#fb9f3a"
             ],
             [
              0.8888888888888888,
              "#fdca26"
             ],
             [
              1,
              "#f0f921"
             ]
            ],
            "type": "histogram2d"
           }
          ],
          "histogram2dcontour": [
           {
            "colorbar": {
             "outlinewidth": 0,
             "ticks": ""
            },
            "colorscale": [
             [
              0,
              "#0d0887"
             ],
             [
              0.1111111111111111,
              "#46039f"
             ],
             [
              0.2222222222222222,
              "#7201a8"
             ],
             [
              0.3333333333333333,
              "#9c179e"
             ],
             [
              0.4444444444444444,
              "#bd3786"
             ],
             [
              0.5555555555555556,
              "#d8576b"
             ],
             [
              0.6666666666666666,
              "#ed7953"
             ],
             [
              0.7777777777777778,
              "#fb9f3a"
             ],
             [
              0.8888888888888888,
              "#fdca26"
             ],
             [
              1,
              "#f0f921"
             ]
            ],
            "type": "histogram2dcontour"
           }
          ],
          "mesh3d": [
           {
            "colorbar": {
             "outlinewidth": 0,
             "ticks": ""
            },
            "type": "mesh3d"
           }
          ],
          "parcoords": [
           {
            "line": {
             "colorbar": {
              "outlinewidth": 0,
              "ticks": ""
             }
            },
            "type": "parcoords"
           }
          ],
          "pie": [
           {
            "automargin": true,
            "type": "pie"
           }
          ],
          "scatter": [
           {
            "fillpattern": {
             "fillmode": "overlay",
             "size": 10,
             "solidity": 0.2
            },
            "type": "scatter"
           }
          ],
          "scatter3d": [
           {
            "line": {
             "colorbar": {
              "outlinewidth": 0,
              "ticks": ""
             }
            },
            "marker": {
             "colorbar": {
              "outlinewidth": 0,
              "ticks": ""
             }
            },
            "type": "scatter3d"
           }
          ],
          "scattercarpet": [
           {
            "marker": {
             "colorbar": {
              "outlinewidth": 0,
              "ticks": ""
             }
            },
            "type": "scattercarpet"
           }
          ],
          "scattergeo": [
           {
            "marker": {
             "colorbar": {
              "outlinewidth": 0,
              "ticks": ""
             }
            },
            "type": "scattergeo"
           }
          ],
          "scattergl": [
           {
            "marker": {
             "colorbar": {
              "outlinewidth": 0,
              "ticks": ""
             }
            },
            "type": "scattergl"
           }
          ],
          "scattermapbox": [
           {
            "marker": {
             "colorbar": {
              "outlinewidth": 0,
              "ticks": ""
             }
            },
            "type": "scattermapbox"
           }
          ],
          "scatterpolar": [
           {
            "marker": {
             "colorbar": {
              "outlinewidth": 0,
              "ticks": ""
             }
            },
            "type": "scatterpolar"
           }
          ],
          "scatterpolargl": [
           {
            "marker": {
             "colorbar": {
              "outlinewidth": 0,
              "ticks": ""
             }
            },
            "type": "scatterpolargl"
           }
          ],
          "scatterternary": [
           {
            "marker": {
             "colorbar": {
              "outlinewidth": 0,
              "ticks": ""
             }
            },
            "type": "scatterternary"
           }
          ],
          "surface": [
           {
            "colorbar": {
             "outlinewidth": 0,
             "ticks": ""
            },
            "colorscale": [
             [
              0,
              "#0d0887"
             ],
             [
              0.1111111111111111,
              "#46039f"
             ],
             [
              0.2222222222222222,
              "#7201a8"
             ],
             [
              0.3333333333333333,
              "#9c179e"
             ],
             [
              0.4444444444444444,
              "#bd3786"
             ],
             [
              0.5555555555555556,
              "#d8576b"
             ],
             [
              0.6666666666666666,
              "#ed7953"
             ],
             [
              0.7777777777777778,
              "#fb9f3a"
             ],
             [
              0.8888888888888888,
              "#fdca26"
             ],
             [
              1,
              "#f0f921"
             ]
            ],
            "type": "surface"
           }
          ],
          "table": [
           {
            "cells": {
             "fill": {
              "color": "#EBF0F8"
             },
             "line": {
              "color": "white"
             }
            },
            "header": {
             "fill": {
              "color": "#C8D4E3"
             },
             "line": {
              "color": "white"
             }
            },
            "type": "table"
           }
          ]
         },
         "layout": {
          "annotationdefaults": {
           "arrowcolor": "#2a3f5f",
           "arrowhead": 0,
           "arrowwidth": 1
          },
          "autotypenumbers": "strict",
          "coloraxis": {
           "colorbar": {
            "outlinewidth": 0,
            "ticks": ""
           }
          },
          "colorscale": {
           "diverging": [
            [
             0,
             "#8e0152"
            ],
            [
             0.1,
             "#c51b7d"
            ],
            [
             0.2,
             "#de77ae"
            ],
            [
             0.3,
             "#f1b6da"
            ],
            [
             0.4,
             "#fde0ef"
            ],
            [
             0.5,
             "#f7f7f7"
            ],
            [
             0.6,
             "#e6f5d0"
            ],
            [
             0.7,
             "#b8e186"
            ],
            [
             0.8,
             "#7fbc41"
            ],
            [
             0.9,
             "#4d9221"
            ],
            [
             1,
             "#276419"
            ]
           ],
           "sequential": [
            [
             0,
             "#0d0887"
            ],
            [
             0.1111111111111111,
             "#46039f"
            ],
            [
             0.2222222222222222,
             "#7201a8"
            ],
            [
             0.3333333333333333,
             "#9c179e"
            ],
            [
             0.4444444444444444,
             "#bd3786"
            ],
            [
             0.5555555555555556,
             "#d8576b"
            ],
            [
             0.6666666666666666,
             "#ed7953"
            ],
            [
             0.7777777777777778,
             "#fb9f3a"
            ],
            [
             0.8888888888888888,
             "#fdca26"
            ],
            [
             1,
             "#f0f921"
            ]
           ],
           "sequentialminus": [
            [
             0,
             "#0d0887"
            ],
            [
             0.1111111111111111,
             "#46039f"
            ],
            [
             0.2222222222222222,
             "#7201a8"
            ],
            [
             0.3333333333333333,
             "#9c179e"
            ],
            [
             0.4444444444444444,
             "#bd3786"
            ],
            [
             0.5555555555555556,
             "#d8576b"
            ],
            [
             0.6666666666666666,
             "#ed7953"
            ],
            [
             0.7777777777777778,
             "#fb9f3a"
            ],
            [
             0.8888888888888888,
             "#fdca26"
            ],
            [
             1,
             "#f0f921"
            ]
           ]
          },
          "colorway": [
           "#636efa",
           "#EF553B",
           "#00cc96",
           "#ab63fa",
           "#FFA15A",
           "#19d3f3",
           "#FF6692",
           "#B6E880",
           "#FF97FF",
           "#FECB52"
          ],
          "font": {
           "color": "#2a3f5f"
          },
          "geo": {
           "bgcolor": "white",
           "lakecolor": "white",
           "landcolor": "#E5ECF6",
           "showlakes": true,
           "showland": true,
           "subunitcolor": "white"
          },
          "hoverlabel": {
           "align": "left"
          },
          "hovermode": "closest",
          "mapbox": {
           "style": "light"
          },
          "paper_bgcolor": "white",
          "plot_bgcolor": "#E5ECF6",
          "polar": {
           "angularaxis": {
            "gridcolor": "white",
            "linecolor": "white",
            "ticks": ""
           },
           "bgcolor": "#E5ECF6",
           "radialaxis": {
            "gridcolor": "white",
            "linecolor": "white",
            "ticks": ""
           }
          },
          "scene": {
           "xaxis": {
            "backgroundcolor": "#E5ECF6",
            "gridcolor": "white",
            "gridwidth": 2,
            "linecolor": "white",
            "showbackground": true,
            "ticks": "",
            "zerolinecolor": "white"
           },
           "yaxis": {
            "backgroundcolor": "#E5ECF6",
            "gridcolor": "white",
            "gridwidth": 2,
            "linecolor": "white",
            "showbackground": true,
            "ticks": "",
            "zerolinecolor": "white"
           },
           "zaxis": {
            "backgroundcolor": "#E5ECF6",
            "gridcolor": "white",
            "gridwidth": 2,
            "linecolor": "white",
            "showbackground": true,
            "ticks": "",
            "zerolinecolor": "white"
           }
          },
          "shapedefaults": {
           "line": {
            "color": "#2a3f5f"
           }
          },
          "ternary": {
           "aaxis": {
            "gridcolor": "white",
            "linecolor": "white",
            "ticks": ""
           },
           "baxis": {
            "gridcolor": "white",
            "linecolor": "white",
            "ticks": ""
           },
           "bgcolor": "#E5ECF6",
           "caxis": {
            "gridcolor": "white",
            "linecolor": "white",
            "ticks": ""
           }
          },
          "title": {
           "x": 0.05
          },
          "xaxis": {
           "automargin": true,
           "gridcolor": "white",
           "linecolor": "white",
           "ticks": "",
           "title": {
            "standoff": 15
           },
           "zerolinecolor": "white",
           "zerolinewidth": 2
          },
          "yaxis": {
           "automargin": true,
           "gridcolor": "white",
           "linecolor": "white",
           "ticks": "",
           "title": {
            "standoff": 15
           },
           "zerolinecolor": "white",
           "zerolinewidth": 2
          }
         }
        },
        "title": {
         "text": "Crescimento Anual das Classes de Consumo em Geração Distribuída Solar Fotovoltaica"
        },
        "xaxis": {
         "anchor": "y",
         "domain": [
          0,
          1
         ],
         "title": {
          "text": "Ano"
         }
        },
        "yaxis": {
         "anchor": "x",
         "domain": [
          0,
          1
         ],
         "title": {
          "text": "Número de Empreendimentos"
         }
        }
       }
      }
     },
     "metadata": {},
     "output_type": "display_data"
    }
   ],
   "source": [
    "grafico = px.bar(\n",
    "    tabela_agrupada,\n",
    "    x=\"AnoInstalacao\",\n",
    "    y=\"QuantidadeEmpreendimentos\",\n",
    "    color=\"DscClasseConsumo\",\n",
    "    title=\"Crescimento Anual das Classes de Consumo em Geração Distribuída Solar Fotovoltaica\",\n",
    "    labels={\"AnoInstalacao\": \"Ano\", \"QuantidadeEmpreendimentos\": \"Número de Empreendimentos\",\n",
    "            \"DscClasseConsumo\": \"Classe de Consumo\"},\n",
    "    barmode=\"group\"  \n",
    ")\n",
    "\n",
    "grafico.show()"
   ]
  }
 ],
 "metadata": {
  "kernelspec": {
   "display_name": "venv",
   "language": "python",
   "name": "python3"
  },
  "language_info": {
   "codemirror_mode": {
    "name": "ipython",
    "version": 3
   },
   "file_extension": ".py",
   "mimetype": "text/x-python",
   "name": "python",
   "nbconvert_exporter": "python",
   "pygments_lexer": "ipython3",
   "version": "3.12.6"
  }
 },
 "nbformat": 4,
 "nbformat_minor": 2
}
